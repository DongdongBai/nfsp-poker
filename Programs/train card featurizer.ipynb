{
 "cells": [
  {
   "cell_type": "code",
   "execution_count": 2,
   "metadata": {
    "collapsed": true
   },
   "outputs": [],
   "source": [
    "from models.q_network import CardFeaturizer1, CardFeaturizer2, CardFeaturizer3\n",
    "import torch as t\n",
    "from game.utils import variable\n",
    "import numpy as np\n",
    "from game.game_utils import Card, cards_to_array\n",
    "from matplotlib import pyplot as plt\n",
    "from sklearn.utils import shuffle\n",
    "from IPython import display"
   ]
  },
  {
   "cell_type": "markdown",
   "metadata": {},
   "source": [
    "# Load dataset"
   ]
  },
  {
   "cell_type": "code",
   "execution_count": 4,
   "metadata": {},
   "outputs": [],
   "source": [
    "import pickle\n",
    "filenames = ['hand_eval_2.p',\n",
    "             'hand_eval_51511068091.1125414.p',\n",
    "             'hand_eval_51511071691.158362.p',\n",
    "             'hand_eval_51511075291.2004554.p',\n",
    "             'hand_eval_51511078891.2243085.p',\n",
    "             'hand_eval_51511082491.277018.p',\n",
    "             'hand_eval_51511086091.2965872.p',\n",
    "             'hand_eval_51511093291.367359.p',\n",
    "             'hand_eval_51511100491.4335415.p',\n",
    "             'hand_eval_51511104091.4605765.p',\n",
    "             'hand_eval_51511107691.4960084.p']\n",
    "\n",
    "for filename in filenames:\n",
    "    with open(filename, 'rb') as f:\n",
    "        dataset_ = pickle.load(f)\n",
    "        try:\n",
    "            for k,v in dataset_.items():\n",
    "                train_dataset[k] = v\n",
    "        except:\n",
    "            train_dataset = dataset_"
   ]
  },
  {
   "cell_type": "code",
   "execution_count": 5,
   "metadata": {
    "collapsed": true
   },
   "outputs": [],
   "source": [
    "import pickle\n",
    "filenames = ['hand_eval_51511089691.300083.p']\n",
    "for filename in filenames:\n",
    "    with open(filename, 'rb') as f:\n",
    "        dataset_ = pickle.load(f)\n",
    "        try:\n",
    "            for k,v in dataset_.items():\n",
    "                test_dataset[k] = v\n",
    "        except:\n",
    "            test_dataset = dataset_\n"
   ]
  },
  {
   "cell_type": "code",
   "execution_count": 6,
   "metadata": {},
   "outputs": [
    {
     "data": {
      "text/plain": [
       "(669599, 54652)"
      ]
     },
     "execution_count": 6,
     "metadata": {},
     "output_type": "execute_result"
    }
   ],
   "source": [
    "len(train_dataset), len(test_dataset)"
   ]
  },
  {
   "cell_type": "markdown",
   "metadata": {},
   "source": [
    "# Parse dataset"
   ]
  },
  {
   "cell_type": "markdown",
   "metadata": {},
   "source": [
    "frozenset({'2d', '6c', '9d', '7s'})): {'player1winprob': 0.15217391304347827, 'High Card': 0.5217391304347826, 'Pair': 0.391304347826087, 'Two Pair': 0.0, 'Three of a Kind': 0.0, 'Straight': 0.08695652173913043, 'Flush': 0.0, 'Full House': 0.0, 'Four of a Kind': 0.0, 'Straight Flush': 0.0, 'Royal Flush': 0.0}}\n",
    "Time diff is 0.002004861831665039"
   ]
  },
  {
   "cell_type": "code",
   "execution_count": 8,
   "metadata": {
    "collapsed": true
   },
   "outputs": [],
   "source": [
    "def clip(x):\n",
    "    return x*(x>=1e-2)*(x<=.99) + .99*(x>.99) + .01*(x<.01)"
   ]
  },
  {
   "cell_type": "code",
   "execution_count": 9,
   "metadata": {},
   "outputs": [],
   "source": [
    "def parse_dataset(dataset):\n",
    "    x_hand = np.zeros((len(dataset), 13, 4))\n",
    "    x_board = np.zeros((len(dataset), 3, 13, 4))\n",
    "    y = np.zeros((len(dataset),))\n",
    "\n",
    "    for i, (cards_, probas) in enumerate(dataset.items()):\n",
    "        # if there are only two cards and nothing on the board then the keys don't have the same format.....\n",
    "        if isinstance(cards_, tuple):\n",
    "            hand_, board_ = cards_\n",
    "        else:\n",
    "            hand_ = cards_\n",
    "            board_ = None\n",
    "\n",
    "        hand = []\n",
    "        board = []\n",
    "\n",
    "        for card_ in hand_:\n",
    "            if card_[0] != 'T':\n",
    "                try:\n",
    "                    hand.append(Card(card_[0], card_[1]))\n",
    "                except:\n",
    "                    print(hand_, board_)\n",
    "                    raise Exception\n",
    "            else:\n",
    "                hand.append(Card('10', card_[1]))\n",
    "\n",
    "        if board_ is not None:\n",
    "            for card_ in board_:\n",
    "                if card_[0] != 'T':\n",
    "                    board.append(Card(card_[0], card_[1]))\n",
    "                else:\n",
    "                    board.append(Card('10', card_[1]))\n",
    "\n",
    "        x_hand[i] = cards_to_array(hand)\n",
    "        x_board[i] = cards_to_array(board)\n",
    "        hs = clip(probas['player1winprob'])\n",
    "        y[i] = np.log(hs/(1-hs))\n",
    "#         y[i][0] = probas['player1winprob']\n",
    "#         y[i][1] = probas['High Card']\n",
    "#         y[i][2] = probas['Pair']\n",
    "#         y[i][3] = probas['Two Pair']\n",
    "#         y[i][4] = probas['Three of a Kind']\n",
    "#         y[i][5] = probas['Straight']\n",
    "#         y[i][6] = probas['Flush']\n",
    "#         y[i][7] = probas['Full House']\n",
    "#         y[i][8] = probas['Four of a Kind']\n",
    "#         y[i][9] = probas['Straight Flush']\n",
    "    return x_hand, x_board, y\n"
   ]
  },
  {
   "cell_type": "code",
   "execution_count": 10,
   "metadata": {},
   "outputs": [],
   "source": [
    "x_hand_train, x_board_train, y_train = parse_dataset(train_dataset)\n",
    "x_hand_test, x_board_test, y_test = parse_dataset(test_dataset)"
   ]
  },
  {
   "cell_type": "code",
   "execution_count": 11,
   "metadata": {},
   "outputs": [
    {
     "name": "stderr",
     "output_type": "stream",
     "text": [
      "C:\\ProgramData\\Anaconda3\\lib\\site-packages\\sklearn\\preprocessing\\data.py:586: DeprecationWarning: Passing 1d arrays as data is deprecated in 0.17 and will raise ValueError in 0.19. Reshape your data either using X.reshape(-1, 1) if your data has a single feature or X.reshape(1, -1) if it contains a single sample.\n",
      "  warnings.warn(DEPRECATION_MSG_1D, DeprecationWarning)\n",
      "C:\\ProgramData\\Anaconda3\\lib\\site-packages\\sklearn\\preprocessing\\data.py:649: DeprecationWarning: Passing 1d arrays as data is deprecated in 0.17 and will raise ValueError in 0.19. Reshape your data either using X.reshape(-1, 1) if your data has a single feature or X.reshape(1, -1) if it contains a single sample.\n",
      "  warnings.warn(DEPRECATION_MSG_1D, DeprecationWarning)\n"
     ]
    }
   ],
   "source": [
    "from sklearn.preprocessing import StandardScaler\n",
    "scaler = StandardScaler()\n",
    "y_train = scaler.fit_transform(y_train)"
   ]
  },
  {
   "cell_type": "code",
   "execution_count": 12,
   "metadata": {},
   "outputs": [
    {
     "name": "stderr",
     "output_type": "stream",
     "text": [
      "C:\\ProgramData\\Anaconda3\\lib\\site-packages\\sklearn\\preprocessing\\data.py:649: DeprecationWarning: Passing 1d arrays as data is deprecated in 0.17 and will raise ValueError in 0.19. Reshape your data either using X.reshape(-1, 1) if your data has a single feature or X.reshape(1, -1) if it contains a single sample.\n",
      "  warnings.warn(DEPRECATION_MSG_1D, DeprecationWarning)\n"
     ]
    }
   ],
   "source": [
    "y_test = scaler.transform(y_test)"
   ]
  },
  {
   "cell_type": "code",
   "execution_count": 13,
   "metadata": {},
   "outputs": [
    {
     "data": {
      "image/png": "[encoded data removed]",
      "text/plain": [
       "<matplotlib.figure.Figure at 0x21731a58da0>"
      ]
     },
     "metadata": {},
     "output_type": "display_data"
    }
   ],
   "source": [
    "plt.hist(y_train, bins=50)\n",
    "plt.show()"
   ]
  },
  {
   "cell_type": "markdown",
   "metadata": {},
   "source": [
    "# Train neural network"
   ]
  },
  {
   "cell_type": "code",
   "execution_count": 55,
   "metadata": {},
   "outputs": [
    {
     "name": "stdout",
     "output_type": "stream",
     "text": [
      "#params:  12089\n"
     ]
    }
   ],
   "source": [
    "f = CardFeaturizer1(20)\n",
    "print('#params: ', np.sum([np.prod(p.data.numpy().shape) for p in f.parameters()]))"
   ]
  },
  {
   "cell_type": "code",
   "execution_count": 56,
   "metadata": {},
   "outputs": [],
   "source": [
    "# initialization of weights for using selu activation\n",
    "\n",
    "for i in range(1, 19):\n",
    "    if i == 16 or i == 17:\n",
    "        continue\n",
    "    fcc = getattr(f, 'fc'+str(i))\n",
    "    shape = fcc.weight.data.numpy().shape\n",
    "    fcc.weight.data = t.from_numpy(np.random.normal(0, 1/np.sqrt(shape[0]), shape)).float()\n",
    "\n",
    "for i in range(1, 6):\n",
    "    convv = getattr(f, 'conv'+str(i))\n",
    "    shape = convv.weight.data.numpy().shape\n",
    "    convv.weight.data = t.from_numpy(np.random.normal(0, 1/np.sqrt(shape[-1]*shape[-2]), shape)).float()\n"
   ]
  },
  {
   "cell_type": "code",
   "execution_count": 57,
   "metadata": {
    "collapsed": true
   },
   "outputs": [],
   "source": [
    "def clip(x):\n",
    "    return x*(x>=1e-2).float()*(x<=.99).float() + .99*(x>.99).float() + .01*(x<.01).float()"
   ]
  },
  {
   "cell_type": "code",
   "execution_count": null,
   "metadata": {
    "scrolled": false
   },
   "outputs": [
    {
     "name": "stdout",
     "output_type": "stream",
     "text": [
      "epoch 0\n"
     ]
    },
    {
     "data": {
      "image/png": "[encoded data removed]",
      "text/plain": [
       "<matplotlib.figure.Figure at 0x2173570cfd0>"
      ]
     },
     "metadata": {},
     "output_type": "display_data"
    },
    {
     "data": {
      "image/png": "[encoded data removed]",
      "text/plain": [
       "<matplotlib.figure.Figure at 0x2173597c9b0>"
      ]
     },
     "metadata": {},
     "output_type": "display_data"
    }
   ],
   "source": [
    "lr = 1e-4  # 1e-4 for selu\n",
    "batch_size = 64\n",
    "EPOCHS = 50\n",
    "optimizer = t.optim.Adam(f.parameters(), lr=lr, weight_decay=1e-3)\n",
    "train_losses = []\n",
    "test_losses = []\n",
    "PLOT = 500\n",
    "\n",
    "\n",
    "for _ in range(EPOCHS):\n",
    "    print('epoch', _)\n",
    "    \n",
    "    # shuffle\n",
    "    x_hand_train, x_board_train, y_train = shuffle(x_hand_train, x_board_train, y_train)\n",
    "    \n",
    "    # check if weights are NaN\n",
    "    for p in f.parameters():\n",
    "        if np.isnan(p.data.numpy()).sum()>0:\n",
    "            raise ValueError('nan weights !')\n",
    "    \n",
    "    for i in range(0, len(train_dataset), batch_size):\n",
    "        # check if BN var is NaN\n",
    "#         check_bn_var_nan(f)\n",
    "        \n",
    "        # sample batch\n",
    "        hand = variable(x_hand_train[i:i+batch_size])\n",
    "        board = variable(x_board_train[i:i+batch_size])\n",
    "        target = variable(y_train[i:i+batch_size]).squeeze()\n",
    "        if len(hand) != batch_size:\n",
    "            break\n",
    "        \n",
    "        # init grad\n",
    "        optimizer.zero_grad()\n",
    "        \n",
    "        # pred\n",
    "        HS = clip(f.forward(hand, board).squeeze())\n",
    "        pred = t.log(HS/(1-HS))\n",
    "        loss = (target - pred)**2  # target already has this format (scaled logit)\n",
    "        loss = t.sum(loss)\n",
    "        train_losses.append(loss.data.numpy()[0]/batch_size)\n",
    "        \n",
    "        loss.backward()\n",
    "#         clip_gradients(f, 5)\n",
    "        \n",
    "        optimizer.step()\n",
    "        \n",
    "        if (i//batch_size) % PLOT == 0:\n",
    "            display.clear_output(wait=True)\n",
    "            print('epoch', _)\n",
    "            \n",
    "            # test loss on a random test sample\n",
    "            x_hand_test, x_board_test, y_test = shuffle(x_hand_test, x_board_test, y_test)\n",
    "            hand = variable(x_hand_test[:1000])\n",
    "            board = variable(x_board_test[:1000])\n",
    "            target = variable(y_test[:1000]).squeeze()\n",
    "            f.eval()\n",
    "            HS = f.forward(hand, board).squeeze() + 1e-5\n",
    "            f.train()\n",
    "            pred = t.log(HS/(1-HS))\n",
    "            loss = (target - pred)**2\n",
    "            loss = t.sum(loss)      \n",
    "            test_losses.append(loss.data.numpy()[0]/1000)\n",
    "            \n",
    "            # plot\n",
    "            plt.plot(test_losses)\n",
    "            plt.show()\n",
    "            plt.plot(moving_avg(train_losses))\n",
    "            plt.show()"
   ]
  },
  {
   "cell_type": "markdown",
   "metadata": {},
   "source": [
    "Test of the model"
   ]
  },
  {
   "cell_type": "code",
   "execution_count": 685,
   "metadata": {
    "scrolled": true
   },
   "outputs": [],
   "source": [
    "IDX_TO_RANK = {k:v for k,v in enumerate(Card.RANKS)}\n",
    "IDX_TO_SUIT = {k:v for k,v in enumerate(Card.SUITS)}\n",
    "\n",
    "def array_to_card(array):\n",
    "    if isinstance(array, t.autograd.Variable):\n",
    "        array_ = array.data.numpy()\n",
    "    else:\n",
    "        array_ = array\n",
    "    cards = []\n",
    "    for i in range(13):\n",
    "        for j in range(4):\n",
    "            if array_[i][j] == 1:\n",
    "                cards.append(Card(IDX_TO_RANK[i], IDX_TO_SUIT[j]))\n",
    "    return cards\n"
   ]
  },
  {
   "cell_type": "code",
   "execution_count": 686,
   "metadata": {
    "collapsed": true
   },
   "outputs": [],
   "source": [
    "def c(r, s):\n",
    "    return Card(r, s)"
   ]
  },
  {
   "cell_type": "markdown",
   "metadata": {},
   "source": [
    "Test with very small variations"
   ]
  },
  {
   "cell_type": "code",
   "execution_count": 688,
   "metadata": {},
   "outputs": [
    {
     "data": {
      "text/plain": [
       "CardFeaturizer (\n",
       "  (conv1): Conv1d(2, 5, kernel_size=(1,), stride=(1,))\n",
       "  (conv1_bn): BatchNorm1d(5, eps=1e-05, momentum=0.1, affine=True)\n",
       "  (conv2): Conv1d(5, 1, kernel_size=(5,), stride=(1,), padding=(2,))\n",
       "  (conv2_bn): BatchNorm1d(1, eps=1e-05, momentum=0.1, affine=True)\n",
       "  (conv3): Conv1d(5, 1, kernel_size=(3,), stride=(1,), padding=(1,))\n",
       "  (conv3_bn): BatchNorm1d(1, eps=1e-05, momentum=0.1, affine=True)\n",
       "  (conv4): Conv1d(5, 3, kernel_size=(3,), stride=(1,), padding=(2,), dilation=(2,))\n",
       "  (conv4_bn): BatchNorm1d(3, eps=1e-05, momentum=0.1, affine=True)\n",
       "  (conv5): Conv1d(2, 1, kernel_size=(1,), stride=(1,))\n",
       "  (conv5_bn): BatchNorm1d(1, eps=1e-05, momentum=0.1, affine=True)\n",
       "  (fc1): Linear (65 -> 20)\n",
       "  (fc1_bn): BatchNorm1d(20, eps=1e-05, momentum=0.1, affine=True)\n",
       "  (fc2): Linear (26 -> 20)\n",
       "  (fc2_bn): BatchNorm1d(20, eps=1e-05, momentum=0.1, affine=True)\n",
       "  (fc3): Linear (20 -> 20)\n",
       "  (fc3_bn): BatchNorm1d(20, eps=1e-05, momentum=0.1, affine=True)\n",
       "  (fc4): Linear (4 -> 20)\n",
       "  (fc4_bn): BatchNorm1d(20, eps=1e-05, momentum=0.1, affine=True)\n",
       "  (fc5): Linear (52 -> 20)\n",
       "  (fc5_bn): BatchNorm1d(20, eps=1e-05, momentum=0.1, affine=True)\n",
       "  (fc6): Linear (20 -> 20)\n",
       "  (fc6_bn): BatchNorm1d(20, eps=1e-05, momentum=0.1, affine=True)\n",
       "  (fc7): Linear (52 -> 20)\n",
       "  (fc7_bn): BatchNorm1d(20, eps=1e-05, momentum=0.1, affine=True)\n",
       "  (fc8): Linear (20 -> 20)\n",
       "  (fc8_bn): BatchNorm1d(20, eps=1e-05, momentum=0.1, affine=True)\n",
       "  (fc9): Linear (52 -> 20)\n",
       "  (fc9_bn): BatchNorm1d(20, eps=1e-05, momentum=0.1, affine=True)\n",
       "  (fc10): Linear (20 -> 20)\n",
       "  (fc10_bn): BatchNorm1d(20, eps=1e-05, momentum=0.1, affine=True)\n",
       "  (fc11): Linear (60 -> 20)\n",
       "  (fc11_bn): BatchNorm1d(20, eps=1e-05, momentum=0.1, affine=True)\n",
       "  (fc12): Linear (52 -> 20)\n",
       "  (fc12_bn): BatchNorm1d(20, eps=1e-05, momentum=0.1, affine=True)\n",
       "  (fc13): Linear (20 -> 20)\n",
       "  (fc13_bn): BatchNorm1d(20, eps=1e-05, momentum=0.1, affine=True)\n",
       "  (fc14): Linear (100 -> 20)\n",
       "  (fc14_bn): BatchNorm1d(20, eps=1e-05, momentum=0.1, affine=True)\n",
       "  (fc15): Linear (20 -> 20)\n",
       "  (fc15_bn): BatchNorm1d(20, eps=1e-05, momentum=0.1, affine=True)\n",
       "  (fc18): Linear (20 -> 1)\n",
       ")"
      ]
     },
     "execution_count": 688,
     "metadata": {},
     "output_type": "execute_result"
    }
   ],
   "source": [
    "f.eval()"
   ]
  },
  {
   "cell_type": "code",
   "execution_count": 693,
   "metadata": {
    "scrolled": true
   },
   "outputs": [
    {
     "data": {
      "text/plain": [
       "20"
      ]
     },
     "execution_count": 693,
     "metadata": {},
     "output_type": "execute_result"
    }
   ],
   "source": [
    "np.sum(np.isnan(f.fc10_bn.running_var.numpy()))"
   ]
  },
  {
   "cell_type": "code",
   "execution_count": 689,
   "metadata": {
    "scrolled": true
   },
   "outputs": [
    {
     "name": "stdout",
     "output_type": "stream",
     "text": [
      "[ nan] [ nan] [ nan] [ nan] [ nan] [ nan] [ nan]\n"
     ]
    }
   ],
   "source": [
    "hand = variable(cards_to_array([c('Q','s'), c('K', 'h')])).resize(1,13,4)\n",
    "board1 = variable(cards_to_array([c('2','c'),c('5','h'),c('Q','h')])).resize(1,3,13,4)\n",
    "board2 = variable(cards_to_array([c('3','c'),c('5','h'),c('Q','h')])).resize(1,3,13,4)\n",
    "board3 = variable(cards_to_array([c('4','c'),c('5','h'),c('Q','h')])).resize(1,3,13,4)\n",
    "board4 = variable(cards_to_array([c('2','s'),c('7','h'),c('Q','h')])).resize(1,3,13,4)\n",
    "board5 = variable(cards_to_array([c('2','c'),c('6','h'),c('Q','h')])).resize(1,3,13,4)\n",
    "board6 = variable(cards_to_array([c('2','c'),c('5','h'),c('Q','h')])).resize(1,3,13,4)\n",
    "board7 = variable(cards_to_array([c('2','d'),c('3','h'),c('Q','h')])).resize(1,3,13,4)\n",
    "print(f(hand,board1).data.numpy()[0], f(hand,board2).data.numpy()[0], f(hand,board3).data.numpy()[0], f(hand,board4).data.numpy()[0], f(hand,board5).data.numpy()[0], f(hand,board6).data.numpy()[0], f(hand,board7).data.numpy()[0])"
   ]
  },
  {
   "cell_type": "code",
   "execution_count": 548,
   "metadata": {},
   "outputs": [
    {
     "data": {
      "text/plain": [
       "Variable containing:\n",
       " 0\n",
       "[torch.FloatTensor of size 1]"
      ]
     },
     "execution_count": 548,
     "metadata": {},
     "output_type": "execute_result"
    }
   ],
   "source": [
    "t.sum((f(hand,board1,True)[1] - f(hand,board3,True)[1])**2)"
   ]
  },
  {
   "cell_type": "code",
   "execution_count": 556,
   "metadata": {},
   "outputs": [],
   "source": [
    "hand1 = variable(cards_to_array([c('Q','s'), c('Q', 'h')])).resize(1,13,4)\n",
    "board1 = variable(cards_to_array([c('2','c'),c('5','h'),c('Q','c')])).resize(1,3,13,4)\n",
    "\n",
    "hand2 = variable(cards_to_array([c('10','s'), c('10', 'h')])).resize(1,13,4)\n",
    "board2 = variable(cards_to_array([c('A','s'),c('8','h'),c('A','c')])).resize(1,3,13,4)\n"
   ]
  },
  {
   "cell_type": "code",
   "execution_count": 557,
   "metadata": {},
   "outputs": [
    {
     "data": {
      "text/plain": [
       "Variable containing:\n",
       " 0\n",
       "[torch.FloatTensor of size 1]"
      ]
     },
     "execution_count": 557,
     "metadata": {},
     "output_type": "execute_result"
    }
   ],
   "source": [
    "t.sum((f(hand1,board1,True)[1] - f(hand2,board2,True)[1])**2)"
   ]
  },
  {
   "cell_type": "code",
   "execution_count": 584,
   "metadata": {},
   "outputs": [
    {
     "data": {
      "text/plain": [
       "array([[ 0.37721184]], dtype=float32)"
      ]
     },
     "execution_count": 584,
     "metadata": {},
     "output_type": "execute_result"
    }
   ],
   "source": [
    "hand1 = variable(cards_to_array([c('Q','c'), c('4', 'c')])).resize(1,13,4)\n",
    "board1 = variable(cards_to_array([c('5','h'),c('9','c'),c('10','h')])).resize(1,3,13,4)\n",
    "\n",
    "hand2 = variable(cards_to_array([c('Q','c'), c('9', 'c')])).resize(1,13,4)\n",
    "board2 = variable(cards_to_array([c('6','d'),c('A','s'),c('A','d')])).resize(1,3,13,4)\n",
    "\n",
    "f(hand2,board2,True)[0].data.numpy()"
   ]
  },
  {
   "cell_type": "markdown",
   "metadata": {},
   "source": [
    "Look at some predictions"
   ]
  },
  {
   "cell_type": "code",
   "execution_count": 585,
   "metadata": {
    "collapsed": true
   },
   "outputs": [],
   "source": [
    "hand = variable(x_hand_train[i:i+batch_size])\n",
    "board = variable(x_board_train[i:i+batch_size])\n",
    "target = clip(variable(y_train[i:i+batch_size, 0])).squeeze()"
   ]
  },
  {
   "cell_type": "code",
   "execution_count": 586,
   "metadata": {
    "scrolled": true
   },
   "outputs": [
    {
     "name": "stdout",
     "output_type": "stream",
     "text": [
      "[Ks, Kd] [2s, 2d, 9d] 0.961147 0.652173\n",
      "[3c, 9h] [6h, 7h, 9d] 0.673451 0.528163\n",
      "[3h, 8c] [3d, 9h, Ad] 0.779833 0.520679\n",
      "[3d, 10s] [5d, 10h, Jc] 0.170213 0.562264\n",
      "[7d, Kd] [3s, 4s, 6s] 0.707678 0.310451\n",
      "[7c, Js] [6c, 9c, Jh] 0.855689 0.698572\n",
      "[7c, Ah] [9s, 10s, Kd] 0.126735 0.331615\n",
      "[2d, 5h] [3c, 7h, Qs] 0.0175763 0.141836\n",
      "[6h, 10c] [4s, 8c, 9s] 0.182239 0.222856\n",
      "[4s, 6s] [3c, 7c, Kh] 0.3395 0.170632\n",
      "[3c, 9s] [7s, 10d, Ad] 0.237743 0.137893\n",
      "[4d, 8c] [2d, Js, Ac] 0.113784 0.112954\n",
      "[7d, 8d] [5c, Qs, As] 0.224792 0.144312\n",
      "[6h, 6s] [2s, 7h, 8h] 0.707678 0.549673\n",
      "[8s, Kc] [8c, 10c, Js] 0.259019 0.567396\n",
      "[4h, Kh] [7d, Jh, Ac] 0.154487 0.277426\n",
      "[5s, 6s] [5c, Kd, As] 0.666975 0.520631\n",
      "[5h, Qc] [3d, 6h, 8h] 0.273821 0.265489\n",
      "[3d, Jd] [5c, 9h, Js] 0.741906 0.607145\n",
      "[2s, Ad] [9h, 10s, Ac] 0.979648 0.628375\n",
      "[5h, 7c] [2d, 4s, 5d] 0.759482 0.562875\n",
      "[3d, 9c] [3s, 6c, Qd] 0.692877 0.500466\n",
      "[3h, 10c] [4h, Qh, Ah] 0.344126 0.25113\n",
      "[2h, 7s] [2d, 9d, Qc] 0.665125 0.516606\n",
      "[3h, Kc] [5h, 7c, 7s] 0.66235 0.205555\n",
      "[3s, 8s] [5c, 5d, 10c] 0.185014 0.149408\n",
      "[4s, Jd] [6d, 8s, 9h] 0.137835 0.206406\n",
      "[8d, Ks] [4h, 8c, Ah] 0.745606 0.590174\n",
      "[5h, Js] [7c, Qs, Ad] 0.0286772 0.197315\n",
      "[7c, Jc] [4s, 5h, Qd] 0.215541 0.207296\n",
      "[6h, Qs] [4h, 5h, 5c] 0.148011 0.27628\n",
      "[7h, Qh] [3c, 6h, 7d] 0.728955 0.522801\n",
      "[4s, 9s] [3d, 5c, As] 0.375578 0.219709\n",
      "[2d, 3s] [8d, 10h, 10d] 0.152636 0.110556\n",
      "[3d, Kh] [7h, 7s, Jd] 0.695652 0.213047\n",
      "[2d, 4c] [2s, 8d, Jd] 0.160962 0.483699\n",
      "[2c, Qh] [2h, 3h, Ks] 0.6716 0.551502\n",
      "[4h, Kh] [2h, 5h, Qh] 0.99 0.545454\n",
      "[Jd, Kd] [9c, 10h, Qh] 0.833488 0.374913\n",
      "[5s, Ac] [4s, 6s, Ad] 0.60592 0.734046\n",
      "[3c, 10c] [5h, 10s, 10d] 0.99 0.633261\n",
      "[Qd, Ks] [4d, 7s, Jc] 0.248844 0.312267\n",
      "[Qc, Ac] [3h, 5c, As] 0.80481 0.703974\n",
      "[2h, 6c] [2d, 3h, Kh] 0.683626 0.537273\n",
      "[2d, 7h] [2c, 8d, Js] 0.688252 0.524033\n",
      "[6h, Jc] [Js, Qh, Ad] 0.93617 0.611443\n",
      "[8s, Kc] [4s, 5s, Qc] 0.693802 0.319754\n",
      "[6c, 9c] [4d, 9d, Ac] 0.938945 0.631811\n",
      "[5h, 9d] [3d, 8h, Qc] 0.215541 0.169226\n",
      "[2h, 2c] [3h, 8s, Qh] 0.770583 0.524351\n",
      "[3c, 4h] [10d, Jd, Qd] 0.185014 0.0888295\n",
      "[2c, 7c] [2d, Jd, Qc] 0.702128 0.502902\n",
      "[6h, 8c] [Qd, Ks, Ah] 0.19704 0.113448\n",
      "[2h, 8d] [5s, 9s, Jd] 0.636448 0.163584\n",
      "[4h, Kd] [3c, 5c, Jd] 0.620722 0.247852\n",
      "[5d, Qc] [3s, Qh, Qd] 0.925069 0.723475\n",
      "[8c, Jc] [6d, 7d, 8h] 0.578168 0.524129\n",
      "[4s, 8d] [2d, 3s, 7s] 0.555967 0.239526\n",
      "[4c, Kh] [2d, 4d, Js] 0.908418 0.465428\n",
      "[5c, Qs] [9s, Kh, Ad] 0.699352 0.271729\n",
      "[3c, 9s] [4h, 7h, 8s] 0.241443 0.1822\n",
      "[3h, 6c] [8d, Jd, Qc] 0.012951 0.106939\n",
      "[2c, Kd] [3d, Qh, As] 0.688252 0.285738\n",
      "[7h, 8d] [6d, 9d, Kh] 0.420907 0.23689\n"
     ]
    }
   ],
   "source": [
    "pred = f.forward(hand,board).squeeze()\n",
    "for i in range(64):\n",
    "    print(array_to_card(hand[i]), array_to_card(t.sum(board[i],0)), target[i].data.numpy()[0], pred[i].data.numpy()[0])"
   ]
  },
  {
   "cell_type": "code",
   "execution_count": 593,
   "metadata": {
    "scrolled": false
   },
   "outputs": [
    {
     "data": {
      "text/plain": [
       "Variable containing:\n",
       "-1.3941e-01 -2.5870e-03 -6.1545e-11  ...  -5.6580e-01  6.7116e-02 -9.8039e-03\n",
       "-1.3361e-01 -3.1099e-03 -1.2130e-10  ...  -2.5143e-01  2.0516e-02 -8.5397e-03\n",
       "-1.3270e-01 -2.6980e-03 -1.1170e-10  ...  -2.4526e-01  2.3816e-02 -8.1532e-03\n",
       "                ...                   ⋱                   ...                \n",
       "-1.1302e-01 -8.0118e-04 -1.3779e-10  ...   1.4321e+00 -1.1323e-02 -2.6001e-03\n",
       "-1.2392e-01 -1.6426e-03 -1.1196e-10  ...  -7.3998e-03 -4.2043e-04 -5.6207e-03\n",
       "-1.2061e-01 -1.8439e-03 -1.3355e-10  ...   5.1215e-01 -5.9045e-03 -4.8933e-03\n",
       "[torch.FloatTensor of size 64x20]"
      ]
     },
     "execution_count": 593,
     "metadata": {},
     "output_type": "execute_result"
    }
   ],
   "source": [
    "f.forward(hand,board,True)[1]"
   ]
  },
  {
   "cell_type": "code",
   "execution_count": 614,
   "metadata": {
    "collapsed": true
   },
   "outputs": [],
   "source": [
    "for i in range(1,6):\n",
    "    c = getattr(f, 'conv'+str(i)+'_bn')\n",
    "    c.training = True"
   ]
  },
  {
   "cell_type": "code",
   "execution_count": 615,
   "metadata": {
    "collapsed": true
   },
   "outputs": [],
   "source": [
    "for i in range(1,16):\n",
    "    c = getattr(f, 'fc'+str(i)+'_bn')\n",
    "    c.training = True"
   ]
  },
  {
   "cell_type": "code",
   "execution_count": 636,
   "metadata": {},
   "outputs": [
    {
     "data": {
      "text/plain": [
       "0"
      ]
     },
     "execution_count": 636,
     "metadata": {},
     "output_type": "execute_result"
    }
   ],
   "source": [
    "len(dataset)%64"
   ]
  },
  {
   "cell_type": "code",
   "execution_count": 633,
   "metadata": {
    "scrolled": true
   },
   "outputs": [
    {
     "data": {
      "text/plain": [
       "\n",
       "nan\n",
       "nan\n",
       "nan\n",
       "nan\n",
       "nan\n",
       "nan\n",
       "nan\n",
       "nan\n",
       "nan\n",
       "nan\n",
       "nan\n",
       "nan\n",
       "nan\n",
       "nan\n",
       "nan\n",
       "nan\n",
       "nan\n",
       "nan\n",
       "nan\n",
       "nan\n",
       "[torch.FloatTensor of size 20]"
      ]
     },
     "execution_count": 633,
     "metadata": {},
     "output_type": "execute_result"
    }
   ],
   "source": [
    "f.fc12_bn.running_var"
   ]
  },
  {
   "cell_type": "code",
   "execution_count": 627,
   "metadata": {},
   "outputs": [
    {
     "data": {
      "text/plain": [
       "Variable containing:\n",
       " 0.3772\n",
       "[torch.FloatTensor of size 1x1]"
      ]
     },
     "execution_count": 627,
     "metadata": {},
     "output_type": "execute_result"
    }
   ],
   "source": [
    "f.forward(hand[:1], board[:1])"
   ]
  },
  {
   "cell_type": "code",
   "execution_count": 617,
   "metadata": {},
   "outputs": [
    {
     "data": {
      "text/plain": [
       "Variable containing:\n",
       " 0.1787\n",
       " 0.5790\n",
       "[torch.FloatTensor of size 2x1]"
      ]
     },
     "execution_count": 617,
     "metadata": {},
     "output_type": "execute_result"
    }
   ],
   "source": [
    "f.forward(hand[:2], board[:2])"
   ]
  },
  {
   "cell_type": "code",
   "execution_count": 594,
   "metadata": {},
   "outputs": [
    {
     "data": {
      "text/plain": [
       "Variable containing:\n",
       " 0.7429\n",
       "[torch.FloatTensor of size 1]"
      ]
     },
     "execution_count": 594,
     "metadata": {},
     "output_type": "execute_result"
    }
   ],
   "source": [
    "t.sum((_[18] - _[5])**2)"
   ]
  },
  {
   "cell_type": "code",
   "execution_count": 603,
   "metadata": {
    "collapsed": true
   },
   "outputs": [],
   "source": [
    "f.training = False"
   ]
  },
  {
   "cell_type": "code",
   "execution_count": null,
   "metadata": {
    "collapsed": true
   },
   "outputs": [],
   "source": [
    "f."
   ]
  }
 ],
 "metadata": {
  "kernelspec": {
   "display_name": "Python 3",
   "language": "python",
   "name": "python3"
  },
  "language_info": {
   "codemirror_mode": {
    "name": "ipython",
    "version": 3
   },
   "file_extension": ".py",
   "mimetype": "text/x-python",
   "name": "python",
   "nbconvert_exporter": "python",
   "pygments_lexer": "ipython3",
   "version": "3.6.1"
  }
 },
 "nbformat": 4,
 "nbformat_minor": 2
}
