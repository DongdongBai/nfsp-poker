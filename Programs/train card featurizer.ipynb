{
 "cells": [
  {
   "cell_type": "code",
   "execution_count": 21,
   "metadata": {
    "collapsed": true
   },
   "outputs": [],
   "source": [
    "from models.q_network import CardFeaturizer\n",
    "import torch as t\n",
    "from game.utils import variable\n",
    "import numpy as np\n",
    "from game.game_utils import Card, cards_to_array\n",
    "from matplotlib import pyplot as plt\n",
    "from sklearn.utils import shuffle\n",
    "from IPython import display"
   ]
  },
  {
   "cell_type": "markdown",
   "metadata": {},
   "source": [
    "# Load dataset"
   ]
  },
  {
   "cell_type": "code",
   "execution_count": 25,
   "metadata": {},
   "outputs": [],
   "source": [
    "import pickle\n",
    "filenames = ['hand_eval_51511071691.158362.p', 'hand_eval_2.p', 'hand_eval_51511068091.1125414.p', 'hand_eval_51511075291.2004554.p']\n",
    "for filename in filenames:\n",
    "    with open(filename, 'rb') as f:\n",
    "        dataset_ = pickle.load(f)\n",
    "        try:\n",
    "            for k,v in dataset_.items():\n",
    "                train_dataset[k] = v\n",
    "        except:\n",
    "            train_dataset = dataset_\n"
   ]
  },
  {
   "cell_type": "code",
   "execution_count": 27,
   "metadata": {
    "collapsed": true
   },
   "outputs": [],
   "source": [
    "import pickle\n",
    "filenames = ['hand_eval_51511089691.300083.p']\n",
    "for filename in filenames:\n",
    "    with open(filename, 'rb') as f:\n",
    "        dataset_ = pickle.load(f)\n",
    "        try:\n",
    "            for k,v in dataset_.items():\n",
    "                test_dataset[k] = v\n",
    "        except:\n",
    "            test_dataset = dataset_\n"
   ]
  },
  {
   "cell_type": "code",
   "execution_count": 28,
   "metadata": {},
   "outputs": [
    {
     "data": {
      "text/plain": [
       "(227456, 54652)"
      ]
     },
     "execution_count": 28,
     "metadata": {},
     "output_type": "execute_result"
    }
   ],
   "source": [
    "len(train_dataset), len(test_dataset)"
   ]
  },
  {
   "cell_type": "markdown",
   "metadata": {},
   "source": [
    "# Parse dataset"
   ]
  },
  {
   "cell_type": "markdown",
   "metadata": {},
   "source": [
    "frozenset({'2d', '6c', '9d', '7s'})): {'player1winprob': 0.15217391304347827, 'High Card': 0.5217391304347826, 'Pair': 0.391304347826087, 'Two Pair': 0.0, 'Three of a Kind': 0.0, 'Straight': 0.08695652173913043, 'Flush': 0.0, 'Full House': 0.0, 'Four of a Kind': 0.0, 'Straight Flush': 0.0, 'Royal Flush': 0.0}}\n",
    "Time diff is 0.002004861831665039"
   ]
  },
  {
   "cell_type": "code",
   "execution_count": 30,
   "metadata": {},
   "outputs": [],
   "source": [
    "def parse_dataset(dataset):\n",
    "    x_hand = np.zeros((len(dataset), 13, 4))\n",
    "    x_board = np.zeros((len(dataset), 3, 13, 4))\n",
    "    y = np.zeros((len(dataset), 10))\n",
    "\n",
    "    for i, (cards_, probas) in enumerate(dataset.items()):\n",
    "        # if there are only two cards and nothing on the board then the keys don't have the same format.....\n",
    "        if isinstance(cards_, tuple):\n",
    "            hand_, board_ = cards_\n",
    "        else:\n",
    "            hand_ = cards_\n",
    "            board_ = None\n",
    "\n",
    "        hand = []\n",
    "        board = []\n",
    "\n",
    "        for card_ in hand_:\n",
    "            if card_[0] != 'T':\n",
    "                try:\n",
    "                    hand.append(Card(card_[0], card_[1]))\n",
    "                except:\n",
    "                    print(hand_, board_)\n",
    "                    raise Exception\n",
    "            else:\n",
    "                hand.append(Card('10', card_[1]))\n",
    "\n",
    "        if board_ is not None:\n",
    "            for card_ in board_:\n",
    "                if card_[0] != 'T':\n",
    "                    board.append(Card(card_[0], card_[1]))\n",
    "                else:\n",
    "                    board.append(Card('10', card_[1]))\n",
    "\n",
    "        x_hand[i] = cards_to_array(hand)\n",
    "        x_board[i] = cards_to_array(board)\n",
    "        y[i][0] = probas['player1winprob']\n",
    "        y[i][1] = probas['High Card']\n",
    "        y[i][2] = probas['Pair']\n",
    "        y[i][3] = probas['Two Pair']\n",
    "        y[i][4] = probas['Three of a Kind']\n",
    "        y[i][5] = probas['Straight']\n",
    "        y[i][6] = probas['Flush']\n",
    "        y[i][7] = probas['Full House']\n",
    "        y[i][8] = probas['Four of a Kind']\n",
    "        y[i][9] = probas['Straight Flush']\n",
    "    return x_hand, x_board, y\n"
   ]
  },
  {
   "cell_type": "code",
   "execution_count": 31,
   "metadata": {
    "collapsed": true
   },
   "outputs": [],
   "source": [
    "x_hand_train, x_board_train, y_train = parse_dataset(train_dataset)\n",
    "x_hand_test, x_board_test, y_test = parse_dataset(test_dataset)"
   ]
  },
  {
   "cell_type": "markdown",
   "metadata": {},
   "source": [
    "# Train neural network"
   ]
  },
  {
   "cell_type": "code",
   "execution_count": 54,
   "metadata": {
    "collapsed": true
   },
   "outputs": [],
   "source": [
    "f = CardFeaturizer(50)"
   ]
  },
  {
   "cell_type": "code",
   "execution_count": 55,
   "metadata": {
    "collapsed": true
   },
   "outputs": [],
   "source": [
    "def moving_avg(x, window=50):\n",
    "    return [np.mean(x[k:k+window]) for k in range(len(x)-window)]"
   ]
  },
  {
   "cell_type": "code",
   "execution_count": null,
   "metadata": {},
   "outputs": [
    {
     "name": "stdout",
     "output_type": "stream",
     "text": [
      "epoch 3\n"
     ]
    },
    {
     "data": {
      "image/png": "[encoded data removed]",
      "text/plain": [
       "<matplotlib.figure.Figure at 0x24121ee6a20>"
      ]
     },
     "metadata": {},
     "output_type": "display_data"
    }
   ],
   "source": [
    "lr = 1e-4\n",
    "batch_size = 64\n",
    "EPOCHS = 50\n",
    "optimizer = t.optim.Adam(f.parameters(), lr=lr)\n",
    "train_losses = []\n",
    "test_losses = []\n",
    "PLOT = 5000\n",
    "\n",
    "\n",
    "for _ in range(EPOCHS):\n",
    "    print('epoch', _)\n",
    "    x_hand_train, x_board_train, y_train = shuffle(x_hand_train, x_board_train, y_train)\n",
    "    for i in range(0, len(dataset), batch_size):\n",
    "        hand = variable(x_hand_train[i:i+batch_size])\n",
    "        board = variable(x_board_train[i:i+batch_size])\n",
    "        target = variable(y_train[i:i+batch_size])\n",
    "        \n",
    "        optimizer.zero_grad()\n",
    "\n",
    "        hand_strength, proba_combinations, flop_alone, turn_alone, river_alone, bh = f.forward(hand, board)\n",
    "        \n",
    "        loss = (-t.log(hand_strength.squeeze())*target[:, 0] - t.log(1-hand_strength.squeeze())*(1-target[:, 0]))\n",
    "#         loss -= t.sum(t.log(proba_combinations)*target[:, 1:], -1)\n",
    "        loss = t.sum(loss)\n",
    "        \n",
    "        train_losses.append(loss.data.numpy()[0]/batch_size)\n",
    "        \n",
    "        loss.backward()\n",
    "        \n",
    "        optimizer.step()\n",
    "        \n",
    "        if i % PLOT == 0:\n",
    "            display.clear_output(wait=True)\n",
    "            print('epoch', _)\n",
    "            \n",
    "            # test loss\n",
    "            x_hand_test, x_board_test, y_test = shuffle(x_hand_test, x_board_test, y_test)\n",
    "            hand = variable(x_hand_test[:1000])\n",
    "            board = variable(x_board_test[:1000])\n",
    "            target = variable(y_test[:1000])\n",
    "            hand_strength, proba_combinations, flop_alone, turn_alone, river_alone, bh = f.forward(hand, board)\n",
    "            loss = (-t.log(hand_strength.squeeze())*target[:, 0] - t.log(1-hand_strength.squeeze())*(1-target[:, 0]))\n",
    "#             loss -= t.sum(t.log(proba_combinations)*target[:, 1:], -1)\n",
    "            loss = t.sum(loss)\n",
    "            test_losses.append(loss.data.numpy()[0]/1000)\n",
    "            \n",
    "            # plot\n",
    "            plt.plot(test_losses)\n",
    "            plt.show()\n",
    "            plt.plot(moving_avg(train_losses))\n",
    "            plt.show()"
   ]
  }
 ],
 "metadata": {
  "kernelspec": {
   "display_name": "Python 3",
   "language": "python",
   "name": "python3"
  },
  "language_info": {
   "codemirror_mode": {
    "name": "ipython",
    "version": 3
   },
   "file_extension": ".py",
   "mimetype": "text/x-python",
   "name": "python",
   "nbconvert_exporter": "python",
   "pygments_lexer": "ipython3",
   "version": "3.6.1"
  }
 },
 "nbformat": 4,
 "nbformat_minor": 2
}
