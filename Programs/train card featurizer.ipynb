{
 "cells": [
  {
   "cell_type": "code",
   "execution_count": 1,
   "metadata": {
    "collapsed": true
   },
   "outputs": [],
   "source": [
    "from models.q_network import CardFeaturizer\n",
    "import torch as t\n",
    "from game.utils import variable\n",
    "import numpy as np\n",
    "from game.game_utils import Card, cards_to_array\n",
    "from matplotlib import pyplot as plt\n",
    "from IPython import display"
   ]
  },
  {
   "cell_type": "markdown",
   "metadata": {},
   "source": [
    "# Load dataset"
   ]
  },
  {
   "cell_type": "code",
   "execution_count": null,
   "metadata": {
    "collapsed": true
   },
   "outputs": [],
   "source": [
    "import pickle\n",
    "filename = 'file.pkl'\n",
    "with open(filename, 'wb') as f:\n",
    "    dataset = pickle.load(f)\n"
   ]
  },
  {
   "cell_type": "markdown",
   "metadata": {},
   "source": [
    "# Parse dataset"
   ]
  },
  {
   "cell_type": "markdown",
   "metadata": {},
   "source": [
    "frozenset({'2d', '6c', '9d', '7s'})): {'player1winprob': 0.15217391304347827, 'High Card': 0.5217391304347826, 'Pair': 0.391304347826087, 'Two Pair': 0.0, 'Three of a Kind': 0.0, 'Straight': 0.08695652173913043, 'Flush': 0.0, 'Full House': 0.0, 'Four of a Kind': 0.0, 'Straight Flush': 0.0, 'Royal Flush': 0.0}}\n",
    "Time diff is 0.002004861831665039"
   ]
  },
  {
   "cell_type": "code",
   "execution_count": null,
   "metadata": {
    "collapsed": true
   },
   "outputs": [],
   "source": [
    "x_hand = np.zeros((len(dataset), 13, 4))\n",
    "x_board = np.zeros((len(dataset), 3, 13, 4))\n",
    "y = np.zeros((len(dataset), 10))\n",
    "\n",
    "for i, ((hand_, board_), probas) in enumerate(dataset.items()):\n",
    "    hand = []\n",
    "    board = []\n",
    "    for card_ in hand_:\n",
    "        hand.append(Card(card[0], card[1]))\n",
    "    for card_ in board_:\n",
    "        board.append(Card(card[0], card[1]))\n",
    "    x_hand[i] = cards_to_array(hand)\n",
    "    x_board[i] = cards_to_array(board)\n",
    "    y[i][0] = probas['player1winprob']\n",
    "    y[i][1] = probas['High Card']\n",
    "    y[i][2] = probas['Pair']\n",
    "    y[i][3] = probas['Two Pair']\n",
    "    y[i][4] = probas['Three of a Kind']\n",
    "    y[i][5] = probas['Straight']\n",
    "    y[i][6] = probas['Flush']\n",
    "    y[i][7] = probas['Full House']\n",
    "    y[i][8] = probas['Four of a Kind']\n",
    "    y[i][9] = probas['Straight Flush']\n",
    "    "
   ]
  },
  {
   "cell_type": "markdown",
   "metadata": {},
   "source": [
    "# Train neural network"
   ]
  },
  {
   "cell_type": "code",
   "execution_count": null,
   "metadata": {
    "collapsed": true
   },
   "outputs": [],
   "source": [
    "f = CardFeaturizer(10)"
   ]
  },
  {
   "cell_type": "code",
   "execution_count": null,
   "metadata": {
    "collapsed": true
   },
   "outputs": [],
   "source": [
    "list(f.parameters())"
   ]
  },
  {
   "cell_type": "code",
   "execution_count": null,
   "metadata": {
    "collapsed": true
   },
   "outputs": [],
   "source": [
    "def moving_avg(x, window=50):\n",
    "    return [np.mean(x[k:k+window]) for k in range(len(x)-window)]"
   ]
  },
  {
   "cell_type": "code",
   "execution_count": null,
   "metadata": {
    "collapsed": true
   },
   "outputs": [],
   "source": [
    "lr = 1e-3\n",
    "batch_size = 64\n",
    "EPOCHS = 50\n",
    "optimizer = t.optim.Adam(f.parameters(), lr=lr)\n",
    "losses = []\n",
    "PLOT = 1000\n",
    "\n",
    "\n",
    "for _ in range(EPOCHS):\n",
    "    for i in range(0, len(dataset), batch_size):\n",
    "        hand = variable(x_hand[i:i+batch_size])\n",
    "        board = variable(x_board[i:i+batch_size])\n",
    "        target = variable(y[i:i+batch_size])\n",
    "        \n",
    "        optimizer.zero_grad()\n",
    "\n",
    "        output = f.forward(hand, board)\n",
    "        \n",
    "        loss = -t.log(output)*target\n",
    "        loss = t.sum(loss)\n",
    "        \n",
    "        losses.append(loss.data.numpy()[0]/batch_size)\n",
    "        \n",
    "        loss.forward()\n",
    "        \n",
    "        optimizer.step()\n",
    "        \n",
    "        if i % PLOT == 0:\n",
    "            display.clear_output(wait=True)\n",
    "            plt.plot(moving_avg(losses))\n",
    "            plt.show()"
   ]
  }
 ],
 "metadata": {
  "kernelspec": {
   "display_name": "Python 3",
   "language": "python",
   "name": "python3"
  },
  "language_info": {
   "codemirror_mode": {
    "name": "ipython",
    "version": 3
   },
   "file_extension": ".py",
   "mimetype": "text/x-python",
   "name": "python",
   "nbconvert_exporter": "python",
   "pygments_lexer": "ipython3",
   "version": "3.6.1"
  }
 },
 "nbformat": 4,
 "nbformat_minor": 2
}
