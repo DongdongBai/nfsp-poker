{
 "cells": [
  {
   "cell_type": "code",
   "execution_count": 21,
   "metadata": {
    "collapsed": true
   },
   "outputs": [],
   "source": [
    "from models.q_network import CardFeaturizer\n",
    "import torch as t\n",
    "from game.utils import variable\n",
    "import numpy as np\n",
    "from game.game_utils import Card, cards_to_array\n",
    "from matplotlib import pyplot as plt\n",
    "from sklearn.utils import shuffle\n",
    "from IPython import display"
   ]
  },
  {
   "cell_type": "markdown",
   "metadata": {},
   "source": [
    "# Load dataset"
   ]
  },
  {
   "cell_type": "code",
   "execution_count": 502,
   "metadata": {},
   "outputs": [],
   "source": [
    "import pickle\n",
    "filenames = ['hand_eval_2.p',\n",
    "             'hand_eval_51511068091.1125414.p',\n",
    "             'hand_eval_51511071691.158362.p',\n",
    "             'hand_eval_51511075291.2004554.p',\n",
    "             'hand_eval_51511078891.2243085.p',\n",
    "             'hand_eval_51511082491.277018.p',\n",
    "             'hand_eval_51511086091.2965872.p',\n",
    "             'hand_eval_51511093291.367359.p',\n",
    "             'hand_eval_51511100491.4335415.p',\n",
    "             'hand_eval_51511104091.4605765.p',\n",
    "             'hand_eval_51511107691.4960084.p']\n",
    "\n",
    "for filename in filenames:\n",
    "    with open(filename, 'rb') as f:\n",
    "        dataset_ = pickle.load(f)\n",
    "        try:\n",
    "            for k,v in dataset_.items():\n",
    "                train_dataset[k] = v\n",
    "        except:\n",
    "            train_dataset = dataset_"
   ]
  },
  {
   "cell_type": "code",
   "execution_count": 503,
   "metadata": {
    "collapsed": true
   },
   "outputs": [],
   "source": [
    "import pickle\n",
    "filenames = ['hand_eval_51511089691.300083.p']\n",
    "for filename in filenames:\n",
    "    with open(filename, 'rb') as f:\n",
    "        dataset_ = pickle.load(f)\n",
    "        try:\n",
    "            for k,v in dataset_.items():\n",
    "                test_dataset[k] = v\n",
    "        except:\n",
    "            test_dataset = dataset_\n"
   ]
  },
  {
   "cell_type": "code",
   "execution_count": 504,
   "metadata": {},
   "outputs": [
    {
     "data": {
      "text/plain": [
       "(669599, 54652)"
      ]
     },
     "execution_count": 504,
     "metadata": {},
     "output_type": "execute_result"
    }
   ],
   "source": [
    "len(train_dataset), len(test_dataset)"
   ]
  },
  {
   "cell_type": "code",
   "execution_count": 505,
   "metadata": {
    "collapsed": true
   },
   "outputs": [],
   "source": [
    "for k,v in train_dataset.items():\n",
    "    if v['player1winprob'] > 1:\n",
    "        print(k,v)\n",
    "        break"
   ]
  },
  {
   "cell_type": "markdown",
   "metadata": {},
   "source": [
    "# Parse dataset"
   ]
  },
  {
   "cell_type": "markdown",
   "metadata": {},
   "source": [
    "frozenset({'2d', '6c', '9d', '7s'})): {'player1winprob': 0.15217391304347827, 'High Card': 0.5217391304347826, 'Pair': 0.391304347826087, 'Two Pair': 0.0, 'Three of a Kind': 0.0, 'Straight': 0.08695652173913043, 'Flush': 0.0, 'Full House': 0.0, 'Four of a Kind': 0.0, 'Straight Flush': 0.0, 'Royal Flush': 0.0}}\n",
    "Time diff is 0.002004861831665039"
   ]
  },
  {
   "cell_type": "code",
   "execution_count": 507,
   "metadata": {},
   "outputs": [],
   "source": [
    "def parse_dataset(dataset):\n",
    "    x_hand = np.zeros((len(dataset), 13, 4))\n",
    "    x_board = np.zeros((len(dataset), 3, 13, 4))\n",
    "    y = np.zeros((len(dataset), 10))\n",
    "\n",
    "    for i, (cards_, probas) in enumerate(dataset.items()):\n",
    "        # if there are only two cards and nothing on the board then the keys don't have the same format.....\n",
    "        if isinstance(cards_, tuple):\n",
    "            hand_, board_ = cards_\n",
    "        else:\n",
    "            hand_ = cards_\n",
    "            board_ = None\n",
    "\n",
    "        hand = []\n",
    "        board = []\n",
    "\n",
    "        for card_ in hand_:\n",
    "            if card_[0] != 'T':\n",
    "                try:\n",
    "                    hand.append(Card(card_[0], card_[1]))\n",
    "                except:\n",
    "                    print(hand_, board_)\n",
    "                    raise Exception\n",
    "            else:\n",
    "                hand.append(Card('10', card_[1]))\n",
    "\n",
    "        if board_ is not None:\n",
    "            for card_ in board_:\n",
    "                if card_[0] != 'T':\n",
    "                    board.append(Card(card_[0], card_[1]))\n",
    "                else:\n",
    "                    board.append(Card('10', card_[1]))\n",
    "\n",
    "        x_hand[i] = cards_to_array(hand)\n",
    "        x_board[i] = cards_to_array(board)\n",
    "        y[i][0] = probas['player1winprob']\n",
    "        y[i][1] = probas['High Card']\n",
    "        y[i][2] = probas['Pair']\n",
    "        y[i][3] = probas['Two Pair']\n",
    "        y[i][4] = probas['Three of a Kind']\n",
    "        y[i][5] = probas['Straight']\n",
    "        y[i][6] = probas['Flush']\n",
    "        y[i][7] = probas['Full House']\n",
    "        y[i][8] = probas['Four of a Kind']\n",
    "        y[i][9] = probas['Straight Flush']\n",
    "    return x_hand, x_board, y\n"
   ]
  },
  {
   "cell_type": "code",
   "execution_count": 509,
   "metadata": {
    "collapsed": true
   },
   "outputs": [],
   "source": [
    "x_hand_train, x_board_train, y_train = parse_dataset(train_dataset)\n",
    "x_hand_test, x_board_test, y_test = parse_dataset(test_dataset)"
   ]
  },
  {
   "cell_type": "markdown",
   "metadata": {},
   "source": [
    "# Train neural network"
   ]
  },
  {
   "cell_type": "code",
   "execution_count": 511,
   "metadata": {},
   "outputs": [],
   "source": [
    "from torch.nn import AlphaDropout, Conv1d as conv, Linear as fc, SELU, Sigmoid\n",
    "\n",
    "selu = SELU()\n",
    "sigmoid = Sigmoid()\n",
    "\n",
    "\n",
    "def get_shape(x):\n",
    "    try:\n",
    "        return x.data.numpy().shape\n",
    "    except:\n",
    "        return x.numpy().shape\n",
    "\n",
    "\n",
    "def flatten(x):\n",
    "    shape = get_shape(x)\n",
    "    return x.resize(shape[0], int(np.prod(shape[1:])))\n",
    "\n",
    "\n",
    "class CardFeaturizer(t.nn.Module):\n",
    "    def __init__(self, hdim):\n",
    "        super(CardFeaturizer, self).__init__()\n",
    "        self.hdim = hdim\n",
    "        self.conv1 = conv(2, 5, 1)\n",
    "        self.conv2 = conv(5, 1, 5, padding=2)\n",
    "        self.conv3 = conv(5, 1, 3, padding=1)\n",
    "        self.conv4 = conv(5, 3, 3, dilation=2, padding=2)\n",
    "        self.conv5 = conv(2, 1, 1)\n",
    "\n",
    "        self.fc1 = fc(13 * 5, hdim)\n",
    "        self.fc2 = fc(13 * 2, hdim)\n",
    "        self.fc3 = fc(hdim, hdim)\n",
    "        self.fc4 = fc(4, hdim)\n",
    "        self.fc5 = fc(52, hdim)\n",
    "        self.fc6 = fc(hdim, hdim)\n",
    "        self.fc7 = fc(52, hdim)\n",
    "        self.fc8 = fc(hdim, hdim)\n",
    "        self.fc9 = fc(52, hdim)\n",
    "        self.fc10 = fc(hdim, hdim)\n",
    "        self.fc11 = fc(3 * hdim, hdim)\n",
    "        self.fc12 = fc(52, hdim)\n",
    "        self.fc13 = fc(hdim, hdim)\n",
    "        self.fc14 = fc(5 * hdim, hdim)\n",
    "        self.fc15 = fc(hdim, hdim)\n",
    "#         self.fc17 = fc(hdim, 9)\n",
    "        self.fc18 = fc(hdim, 1)\n",
    "\n",
    "    def forward(self, hand, board):\n",
    "        dropout = AlphaDropout(.1)\n",
    "        dropout.training = self.training\n",
    "        \n",
    "        # DETECTING PATTERNS IN THE BOARD AND HAND\n",
    "        # Aggregate by suit and kind\n",
    "        color_hand = t.sum(hand, 1)\n",
    "        color_board = t.sum(t.sum(board, 2), 1)\n",
    "        kinds_hand = t.sum(hand, -1)\n",
    "        kinds_board = t.sum(t.sum(board, -1), 1)\n",
    "        colors = t.cat([color_hand.resize(len(color_hand), 1, 4), color_board.resize(len(color_board), 1, 4)], 1)\n",
    "        kinds = t.cat([kinds_hand.resize(len(kinds_hand), 1, 13), kinds_board.resize(len(kinds_board), 1, 13)], 1)\n",
    "\n",
    "        # Process board and hand to detect straights using convolutions with kernel size 5, 3, and 3 with dilation\n",
    "        kinds_straight = selu(dropout(self.conv1((kinds > 0).float())))\n",
    "        kinds_straight = t.cat([\n",
    "            selu(dropout(self.conv2(kinds_straight))),\n",
    "            selu(dropout(self.conv3(kinds_straight))),\n",
    "            selu(dropout(self.conv4(kinds_straight)))\n",
    "        ], 1)\n",
    "        kinds_straight = flatten(kinds_straight)\n",
    "        kinds_straight = selu(dropout(self.fc1(kinds_straight)))\n",
    "\n",
    "        # Process board and hand to detect pairs, trips, quads, full houses\n",
    "        kinds_ptqf = selu(dropout(self.fc2(flatten(kinds))))\n",
    "        kinds_ptqf = selu(dropout(self.fc3(kinds_ptqf)))\n",
    "\n",
    "        # Process board and hand to detect flushes\n",
    "        colors = flatten(selu(dropout(self.conv5(colors))))\n",
    "        colors = selu(dropout(self.fc4(colors)))\n",
    "\n",
    "        # Process the board with FC layers\n",
    "        flop_alone = selu(dropout(self.fc5(flatten(board[:, 0, :, :]))))\n",
    "        flop_alone = selu(dropout(self.fc6(flop_alone)))\n",
    "        turn_alone = selu(dropout(self.fc7(flatten(board[:, 1, :, :]))))\n",
    "        turn_alone = selu(dropout(self.fc8(turn_alone)))\n",
    "        river_alone = selu(dropout(self.fc9(flatten(board[:, 2, :, :]))))\n",
    "        river_alone = selu(dropout(self.fc10(river_alone)))\n",
    "        board_alone = selu(dropout(self.fc11(t.cat([flop_alone, turn_alone, river_alone], -1))))\n",
    "\n",
    "        # Process board and hand together with FC layers\n",
    "        h = selu(dropout(self.fc12(flatten(hand))))\n",
    "        h = selu(dropout(self.fc13(h)))\n",
    "        bh = selu(dropout(self.fc14(t.cat([h, board_alone, colors, kinds_ptqf, kinds_straight], -1))))\n",
    "        bh = selu(dropout(self.fc15(bh)))\n",
    "\n",
    "        # Predict probabilities of having a given hand + hand strength\n",
    "#         probabilities_of_each_combination = softmax(self.fc17(bh))\n",
    "        hand_strength = sigmoid(self.fc18(bh))\n",
    "        return hand_strength\n"
   ]
  },
  {
   "cell_type": "code",
   "execution_count": 512,
   "metadata": {},
   "outputs": [],
   "source": [
    "from torch.nn import AlphaDropout, Conv1d as conv, Linear as fc, Sigmoid, BatchNorm1d as BN, PReLU\n",
    "\n",
    "sigmoid = Sigmoid()\n",
    "\n",
    "\n",
    "def get_shape(x):\n",
    "    try:\n",
    "        return x.data.numpy().shape\n",
    "    except:\n",
    "        return x.numpy().shape\n",
    "\n",
    "\n",
    "def flatten(x):\n",
    "    shape = get_shape(x)\n",
    "    return x.resize(shape[0], int(np.prod(shape[1:])))\n",
    "\n",
    "\n",
    "class CardFeaturizer(t.nn.Module):\n",
    "    def __init__(self, hdim):\n",
    "        super(CardFeaturizer, self).__init__()\n",
    "        self.hdim = hdim\n",
    "        self.conv1 = conv(2, 5, 1)\n",
    "        self.conv1_bn = BN(5)\n",
    "        self.conv2 = conv(5, 1, 5, padding=2)\n",
    "        self.conv2_bn = BN(1)\n",
    "        self.conv3 = conv(5, 1, 3, padding=1)\n",
    "        self.conv3_bn = BN(1)\n",
    "        self.conv4 = conv(5, 3, 3, dilation=2, padding=2)\n",
    "        self.conv4_bn = BN(3)\n",
    "        self.conv5 = conv(2, 1, 1)\n",
    "        self.conv5_bn = BN(1)\n",
    "\n",
    "        self.fc1 = fc(13 * 5, hdim)\n",
    "        self.fc1_bn = BN(hdim)\n",
    "        self.fc2 = fc(13 * 2, hdim)\n",
    "        self.fc2_bn = BN(hdim)\n",
    "        self.fc3 = fc(hdim, hdim)\n",
    "        self.fc3_bn = BN(hdim)\n",
    "        self.fc4 = fc(4, hdim)\n",
    "        self.fc4_bn = BN(hdim)\n",
    "        self.fc5 = fc(52, hdim)\n",
    "        self.fc5_bn = BN(hdim)\n",
    "        self.fc6 = fc(hdim, hdim)\n",
    "        self.fc6_bn = BN(hdim)\n",
    "        self.fc7 = fc(52, hdim)\n",
    "        self.fc7_bn = BN(hdim)\n",
    "        self.fc8 = fc(hdim, hdim)\n",
    "        self.fc8_bn = BN(hdim)\n",
    "        self.fc9 = fc(52, hdim)\n",
    "        self.fc9_bn = BN(hdim)\n",
    "        self.fc10 = fc(hdim, hdim)\n",
    "        self.fc10_bn = BN(hdim)\n",
    "        self.fc11 = fc(3 * hdim, hdim)\n",
    "        self.fc11_bn = BN(hdim)\n",
    "        self.fc12 = fc(52, hdim)\n",
    "        self.fc12_bn = BN(hdim)\n",
    "        self.fc13 = fc(hdim, hdim)\n",
    "        self.fc13_bn = BN(hdim)\n",
    "        self.fc14 = fc(5 * hdim, hdim)\n",
    "        self.fc14_bn = BN(hdim)\n",
    "        self.fc15 = fc(hdim, hdim)\n",
    "        self.fc15_bn = BN(hdim)\n",
    "#         self.fc17 = fc(hdim, 9)\n",
    "        self.fc18 = fc(hdim, 1)\n",
    "    \n",
    "\n",
    "    def forward(self, hand, board, ret_features=False):\n",
    "        hdim = self.hdim\n",
    "        \n",
    "        # DETECTING PATTERNS IN THE BOARD AND HAND\n",
    "        # Aggregate by suit and kind\n",
    "        color_hand = t.sum(hand, 1)\n",
    "        color_board = t.sum(t.sum(board, 2), 1)\n",
    "        kinds_hand = t.sum(hand, -1)\n",
    "        kinds_board = t.sum(t.sum(board, -1), 1)\n",
    "        colors = t.cat([color_hand.resize(len(color_hand), 1, 4), color_board.resize(len(color_board), 1, 4)], 1)\n",
    "        kinds = t.cat([kinds_hand.resize(len(kinds_hand), 1, 13), kinds_board.resize(len(kinds_board), 1, 13)], 1)\n",
    "\n",
    "        # Process board and hand to detect straights using convolutions with kernel size 5, 3, and 3 with dilation\n",
    "        kinds_straight = PReLU(5)(self.conv1_bn(self.conv1((kinds > 0).float())))\n",
    "        kinds_straight = t.cat([\n",
    "            PReLU(1)(self.conv2_bn(self.conv2(kinds_straight))),\n",
    "            PReLU(1)(self.conv3_bn(self.conv3(kinds_straight))),\n",
    "            PReLU(3)(self.conv4_bn(self.conv4(kinds_straight)))\n",
    "        ], 1)\n",
    "        kinds_straight = flatten(kinds_straight)\n",
    "        kinds_straight = PReLU(1)(self.fc1_bn(self.fc1(kinds_straight)))\n",
    "\n",
    "        # Process board and hand to detect pairs, trips, quads, full houses\n",
    "        kinds_ptqf = PReLU(hdim)(self.fc2_bn(self.fc2(flatten(kinds))))\n",
    "        kinds_ptqf = PReLU(hdim)(self.fc3_bn(self.fc3(kinds_ptqf)))\n",
    "\n",
    "        # Process board and hand to detect flushes\n",
    "        colors = flatten(PReLU(1)(self.conv5_bn(self.conv5(colors))))\n",
    "        colors = PReLU(hdim)(self.fc4_bn(self.fc4(colors)))\n",
    "\n",
    "        # Process the board with FC layers\n",
    "        flop_alone = PReLU(hdim)(self.fc5_bn(self.fc5(flatten(board[:, 0, :, :]))))\n",
    "        flop_alone = PReLU(hdim)(self.fc6_bn(self.fc6(flop_alone)))\n",
    "        turn_alone = PReLU(hdim)(self.fc7_bn(self.fc7(flatten(board[:, 1, :, :]))))\n",
    "        turn_alone = PReLU(hdim)(self.fc8_bn(self.fc8(turn_alone)))\n",
    "        river_alone = PReLU(hdim)(self.fc9_bn(self.fc9(flatten(board[:, 2, :, :]))))\n",
    "        river_alone = PReLU(hdim)(self.fc10_bn(self.fc10(river_alone)))\n",
    "        board_alone = PReLU(hdim)(self.fc11_bn(self.fc11(t.cat([flop_alone, turn_alone, river_alone], -1))))\n",
    "\n",
    "        # Process board and hand together with FC layers\n",
    "        h = PReLU(hdim)(self.fc12_bn(self.fc12(flatten(hand))))\n",
    "        h = PReLU(hdim)(self.fc13_bn(self.fc13(h)))\n",
    "        bh = PReLU(hdim)(self.fc14_bn(self.fc14(t.cat([h, board_alone, colors, kinds_ptqf, kinds_straight], -1))))\n",
    "        bh = PReLU(hdim)(self.fc15_bn(self.fc15(bh)))\n",
    "\n",
    "        # Predict probabilities of having a given hand + hand strength\n",
    "#         probabilities_of_each_combination = softmax(self.fc17(bh))\n",
    "        hand_strength = sigmoid(self.fc18(bh))\n",
    "        if not ret_features:\n",
    "            return hand_strength\n",
    "        else:\n",
    "            return hand_strength, bh, flop_alone, turn_alone, river_alone\n"
   ]
  },
  {
   "cell_type": "code",
   "execution_count": 538,
   "metadata": {},
   "outputs": [
    {
     "name": "stdout",
     "output_type": "stream",
     "text": [
      "#params:  12711\n"
     ]
    }
   ],
   "source": [
    "f = CardFeaturizer(20)\n",
    "print('#params: ', np.sum([np.prod(p.data.numpy().shape) for p in f.parameters()]))"
   ]
  },
  {
   "cell_type": "code",
   "execution_count": 539,
   "metadata": {
    "collapsed": true
   },
   "outputs": [],
   "source": [
    "def moving_avg(x, window=50):\n",
    "    return [np.mean(x[k:k+window]) for k in range(len(x)-window)]"
   ]
  },
  {
   "cell_type": "code",
   "execution_count": 540,
   "metadata": {},
   "outputs": [],
   "source": [
    "# # initialization of weights for using selu activation\n",
    "\n",
    "# for i in range(1, 19):\n",
    "#     if i == 16 or i == 17:\n",
    "#         continue\n",
    "#     fcc = getattr(f, 'fc'+str(i))\n",
    "#     shape = fcc.weight.data.numpy().shape\n",
    "#     fcc.weight.data = t.from_numpy(np.random.normal(0, 1/np.sqrt(shape[0]), shape)).float()\n",
    "\n",
    "# for i in range(1, 6):\n",
    "#     convv = getattr(f, 'conv'+str(i))\n",
    "#     shape = convv.weight.data.numpy().shape\n",
    "#     convv.weight.data = t.from_numpy(np.random.normal(0, 1/shape[-1], shape)).float()\n"
   ]
  },
  {
   "cell_type": "code",
   "execution_count": 541,
   "metadata": {
    "collapsed": true
   },
   "outputs": [],
   "source": [
    "def clip_gradients(nn, bound=10):\n",
    "    for p in nn.parameters():\n",
    "        if p.grad is not None:\n",
    "            p.grad = p.grad*((bound <= p.grad).float())*((bound >= p.grad).float()) + bound*((p.grad > bound).float()) - bound*((p.grad < -bound).float())"
   ]
  },
  {
   "cell_type": "code",
   "execution_count": 542,
   "metadata": {},
   "outputs": [],
   "source": [
    "def clip(p):\n",
    "    return .99*(p > 0.99).float() + .01 * (p<.01).float() + p*(p>=0.01).float()*(p<=0.99).float()"
   ]
  },
  {
   "cell_type": "code",
   "execution_count": null,
   "metadata": {
    "scrolled": false
   },
   "outputs": [
    {
     "name": "stdout",
     "output_type": "stream",
     "text": [
      "epoch 0\n"
     ]
    },
    {
     "data": {
      "image/png": "[encoded data removed]",
      "text/plain": [
       "<matplotlib.figure.Figure at 0x2413007f6d8>"
      ]
     },
     "metadata": {},
     "output_type": "display_data"
    },
    {
     "data": {
      "image/png": "[encoded data removed]",
      "text/plain": [
       "<matplotlib.figure.Figure at 0x241300e6ef0>"
      ]
     },
     "metadata": {},
     "output_type": "display_data"
    }
   ],
   "source": [
    "lr = 1e-1  # 1e-4 for selu\n",
    "batch_size = 64\n",
    "EPOCHS = 50\n",
    "optimizer = t.optim.Adam(f.parameters(), lr=lr, weight_decay=1e-2)\n",
    "train_losses = []\n",
    "test_losses = []\n",
    "PLOT = 500\n",
    "\n",
    "\n",
    "for _ in range(EPOCHS):\n",
    "    print('epoch', _)\n",
    "    x_hand_train, x_board_train, y_train = shuffle(x_hand_train, x_board_train, y_train)\n",
    "    \n",
    "    # check if weights are NaN\n",
    "    for p in f.parameters():\n",
    "        if np.isnan(p.data.numpy()).sum()>0:\n",
    "            raise ValueError('nan weights !')\n",
    "    \n",
    "    for i in range(0, len(dataset), batch_size):\n",
    "        hand = variable(x_hand_train[i:i+batch_size])\n",
    "        board = variable(x_board_train[i:i+batch_size])\n",
    "        target = clip(variable(y_train[i:i+batch_size, 0])).squeeze()\n",
    "        \n",
    "        optimizer.zero_grad()\n",
    "\n",
    "        HS = f.forward(hand, board).squeeze()+1e-5\n",
    "        pred = t.log(HS/(1-HS))\n",
    "        true = t.log(target / (1-target))\n",
    "        loss = (true - pred)**2\n",
    "        loss = t.sum(loss)\n",
    "        train_losses.append(loss.data.numpy()[0]/batch_size)\n",
    "        \n",
    "        loss.backward()\n",
    "#         clip_gradients(f, 5)\n",
    "        \n",
    "        optimizer.step()\n",
    "        \n",
    "        if (i//batch_size) % PLOT == 0:\n",
    "            display.clear_output(wait=True)\n",
    "            print('epoch', _)\n",
    "            \n",
    "            # test loss on a random test sample\n",
    "            x_hand_test, x_board_test, y_test = shuffle(x_hand_test, x_board_test, y_test)\n",
    "            hand = variable(x_hand_test[:1000])\n",
    "            board = variable(x_board_test[:1000])\n",
    "            target = clip(variable(y_test[:1000, 0])).squeeze()\n",
    "            HS = f.forward(hand, board).squeeze() + 1e-5\n",
    "            pred = t.log(HS/(1-HS))\n",
    "            true = t.log(target / (1-target))\n",
    "            loss = (true - pred)**2\n",
    "            loss = t.sum(loss)      \n",
    "            test_losses.append(loss.data.numpy()[0]/1000)\n",
    "            \n",
    "            # plot\n",
    "            plt.plot(test_losses)\n",
    "            plt.show()\n",
    "            plt.plot(moving_avg(train_losses))\n",
    "            plt.show()"
   ]
  },
  {
   "cell_type": "markdown",
   "metadata": {},
   "source": [
    "Test of the model"
   ]
  },
  {
   "cell_type": "code",
   "execution_count": 377,
   "metadata": {
    "scrolled": true
   },
   "outputs": [],
   "source": [
    "IDX_TO_RANK = {k:v for k,v in enumerate(Card.RANKS)}\n",
    "IDX_TO_SUIT = {k:v for k,v in enumerate(Card.SUITS)}\n",
    "\n",
    "def array_to_card(array):\n",
    "    if isinstance(array, t.autograd.Variable):\n",
    "        array_ = array.data.numpy()\n",
    "    else:\n",
    "        array_ = array\n",
    "    cards = []\n",
    "    for i in range(13):\n",
    "        for j in range(4):\n",
    "            if array_[i][j] == 1:\n",
    "                cards.append(Card(IDX_TO_RANK[i], IDX_TO_SUIT[j]))\n",
    "    return cards\n"
   ]
  },
  {
   "cell_type": "code",
   "execution_count": 378,
   "metadata": {
    "collapsed": true
   },
   "outputs": [],
   "source": [
    "def c(r, s):\n",
    "    return Card(r, s)"
   ]
  },
  {
   "cell_type": "code",
   "execution_count": 379,
   "metadata": {
    "scrolled": true
   },
   "outputs": [
    {
     "name": "stdout",
     "output_type": "stream",
     "text": [
      "[ 0.50788301] [ 0.50788301] [ 0.50788301] [ 0.50788301] [ 0.50788301] [ 0.50788301] [ 0.50788301]\n"
     ]
    }
   ],
   "source": [
    "hand = variable(cards_to_array([c('Q','s'), c('K', 'h')])).resize(1,13,4)\n",
    "board1 = variable(cards_to_array([c('2','c'),c('5','h'),c('Q','h')])).resize(1,3,13,4)\n",
    "board2 = variable(cards_to_array([c('3','c'),c('5','h'),c('Q','h')])).resize(1,3,13,4)\n",
    "board3 = variable(cards_to_array([c('4','c'),c('5','h'),c('Q','h')])).resize(1,3,13,4)\n",
    "board4 = variable(cards_to_array([c('2','s'),c('7','h'),c('Q','h')])).resize(1,3,13,4)\n",
    "board5 = variable(cards_to_array([c('2','c'),c('6','h'),c('Q','h')])).resize(1,3,13,4)\n",
    "board6 = variable(cards_to_array([c('2','c'),c('5','h'),c('Q','h')])).resize(1,3,13,4)\n",
    "board7 = variable(cards_to_array([c('2','d'),c('3','h'),c('Q','h')])).resize(1,3,13,4)\n",
    "print(f(hand,board1).data.numpy()[0], f(hand,board2).data.numpy()[0], f(hand,board3).data.numpy()[0], f(hand,board4).data.numpy()[0], f(hand,board5).data.numpy()[0], f(hand,board6).data.numpy()[0], f(hand,board7).data.numpy()[0])"
   ]
  },
  {
   "cell_type": "code",
   "execution_count": 382,
   "metadata": {},
   "outputs": [
    {
     "data": {
      "text/plain": [
       "Variable containing:\n",
       " 0\n",
       "[torch.FloatTensor of size 1]"
      ]
     },
     "execution_count": 382,
     "metadata": {},
     "output_type": "execute_result"
    }
   ],
   "source": [
    "t.sum((f(hand,board1,True)[1] - f(hand,board2,True)[1])**2)"
   ]
  },
  {
   "cell_type": "code",
   "execution_count": null,
   "metadata": {
    "collapsed": true
   },
   "outputs": [],
   "source": [
    "hand = variable(cards_to_array([c('Q','s'), c('K', 'h')])).resize(1,13,4)\n",
    "board1 = variable(cards_to_array([c('2','c'),c('5','h'),c('Q','h')])).resize(1,3,13,4)\n",
    "board2 = variable(cards_to_array([c('3','c'),c('5','h'),c('Q','h')])).resize(1,3,13,4)\n",
    "board3 = variable(cards_to_array([c('4','c'),c('5','h'),c('Q','h')])).resize(1,3,13,4)\n",
    "board4 = variable(cards_to_array([c('2','s'),c('7','h'),c('Q','h')])).resize(1,3,13,4)\n",
    "board5 = variable(cards_to_array([c('2','c'),c('6','h'),c('Q','h')])).resize(1,3,13,4)\n",
    "board6 = variable(cards_to_array([c('2','c'),c('5','h'),c('Q','h')])).resize(1,3,13,4)\n",
    "board7 = variable(cards_to_array([c('2','d'),c('3','h'),c('Q','h')])).resize(1,3,13,4)\n",
    "print(f(hand,board1).data.numpy()[0], f(hand,board2).data.numpy()[0], f(hand,board3).data.numpy()[0], f(hand,board4).data.numpy()[0], f(hand,board5).data.numpy()[0], f(hand,board6).data.numpy()[0], f(hand,board7).data.numpy()[0])"
   ]
  },
  {
   "cell_type": "code",
   "execution_count": 348,
   "metadata": {
    "scrolled": true
   },
   "outputs": [
    {
     "name": "stdout",
     "output_type": "stream",
     "text": [
      "[Qs, Kh] [2c, 5h, Qh] 0.966698 0.778745\n",
      "[9s, Jc] [5s, 8c, 8s] 0.0749306 0.382089\n",
      "[Ah, As] [6c, 8h, 8s] 0.880666 0.801867\n",
      "[5s, 10c] [8c, 9c, 10d] 0.701203 0.606154\n",
      "[Qh, Ad] [10d, Jd, Kc] 0.931545 0.721236\n",
      "[7h, Kh] [3s, 6h, 6d] 0.66235 0.478504\n",
      "[7s, 8c] [3h, 7h, Qh] 0.427382 0.457862\n",
      "[5s, 9s] [6d, 7c, 10h] 0.122109 0.360921\n",
      "[7s, Qs] [6c, 6s, Jh] 0.0323774 0.411266\n",
      "[2d, 7s] [6s, 9c, Ks] 0.271045 0.177152\n",
      "[3s, 9d] [4c, 6h, 8c] 0.20444 0.171122\n",
      "[5h, 6c] [9c, 10s, Ks] 0.0222017 0.13152\n",
      "[7h, 9h] [5s, 7s, Qh] 0.856614 0.622722\n",
      "[Js, Ks] [8h, 9c, Jh] 0.768733 0.716049\n",
      "[10d, Qh] [3h, Jc, Js] 0.680851 0.473144\n",
      "[2d, 6c] [2c, 6s, Kd] 0.679926 0.83905\n",
      "[6c, Qs] [2d, 8s, As] 0.052729 0.385707\n",
      "[8s, 10d] [3s, 10s, Js] 0.0277521 0.684515\n",
      "[10d, Kh] [6s, 9h, 10s] 0.696577 0.748586\n",
      "[4d, 5c] [2h, 5s, 9d] 0.13506 0.544345\n",
      "[Ah, As] [3d, Ks, Ac] 0.86679 0.927844\n",
      "[5c, 6h] [Jc, Qd, Kd] 0.013876 0.134728\n",
      "[Qh, Kh] [3s, 6s, Js] 0.0962072 0.345087\n",
      "[7d, Ks] [8c, Qh, Ac] 0.0111008 0.390913\n",
      "[4c, Js] [2h, 4s, Ad] 0.707678 0.54047\n",
      "[4s, 10s] [2d, 9s, 10c] 0.742831 0.696135\n",
      "[6d, Qd] [7h, 7d, 10c] 0.153562 0.402841\n",
      "[5c, Ks] [3c, 9s, Jh] 0.123034 0.362011\n",
      "[3s, 5s] [4s, Ac, Ad] 0.376503 0.286604\n",
      "[Js, Qs] [5d, 10h, Kh] 0.468085 0.498416\n",
      "[7d, As] [3s, 6c, 8s] 0.258094 0.463262\n",
      "[3c, Jh] [4s, 5d, 10s] 0.135985 0.231371\n",
      "[2s, Ks] [6c, 9d, As] 0.155412 0.402751\n",
      "[Jd, Kd] [8s, 9d, Qd] 0.498612 0.61832\n",
      "[2h, Js] [2d, 6d, 8c] 0.185014 0.499904\n",
      "[10h, Ks] [3h, 6d, Kc] 0.833488 0.786666\n",
      "[9d, As] [2s, 3s, 3d] 0.838113 0.502752\n",
      "[8c, Js] [7s, 9s, 10h] 0.991674 0.788471\n",
      "[3h, Qh] [4s, 5h, Jd] 0.277521 0.350825\n",
      "[2s, 3h] [7c, 9c, 10s] 0.168363 0.0921521\n",
      "[9h, Kh] [2s, 6d, 9d] 0.769658 0.755491\n",
      "[4h, Kh] [7s, 9c, Ad] 0.113784 0.379987\n",
      "[6h, As] [8c, Js, Qc] 0.790009 0.413274\n",
      "[Ac, As] [6s, 10d, Jh] 0.827937 0.788773\n",
      "[Kc, Ah] [2h, 6s, 8s] 0.791859 0.47279\n",
      "[2h, Kc] [5d, 6c, Ah] 0.444033 0.370153\n",
      "[6s, 7h] [7d, 10s, Kd] 0.0786309 0.568254\n",
      "[9h, As] [8c, 8d, Ks] 0.721554 0.478175\n",
      "[5c, 5s] [2s, 7h, 8s] 0.120259 0.505278\n",
      "[2h, Jd] [9d, 10s, 10d] 0.703978 0.329461\n",
      "[7s, 9s] [5h, 6s, 7h] 0.740981 0.630949\n",
      "[2h, 10c] [3h, Qs, Ah] 0.0416281 0.333381\n",
      "[4c, Qh] [9c, Jh, Jd] 0.0333025 0.381523\n",
      "[5h, 9c] [7s, Jh, Ah] 0.0166512 0.353993\n",
      "[6h, 7c] [2d, 8c, 10s] 0.350601 0.267162\n",
      "[7c, Jh] [2s, 10d, Kc] 0.725254 0.339872\n",
      "[9h, Jd] [2c, 7c, Qd] 0.740056 0.372438\n",
      "[5s, 9c] [4c, 5d, Qs] 0.678076 0.550189\n",
      "[3c, Kd] [5h, 7c, 10c] 0.12766 0.350098\n",
      "[2c, 7c] [3s, 8h, Qs] 0.00277521 0.117072\n",
      "[2h, 7c] [Qc, Qd, Ac] 0.0342276 0.198846\n",
      "[2c, Js] [3h, 4h, 6d] 0.313599 0.254032\n",
      "[2s, 7d] [4d, 6h, 9s] 0.226642 0.192443\n",
      "[6h, Qh] [10h, Jc, Ks] 0.412581 0.454781\n"
     ]
    }
   ],
   "source": [
    "pred = f.forward(hand,board).squeeze()\n",
    "for i in range(64):\n",
    "    print(array_to_card(hand[i]), array_to_card(t.sum(board[i],0)), target[i, 0].data.numpy()[0], pred[i].data.numpy()[0])"
   ]
  },
  {
   "cell_type": "code",
   "execution_count": 384,
   "metadata": {},
   "outputs": [
    {
     "data": {
      "text/plain": [
       "{3}"
      ]
     },
     "execution_count": 384,
     "metadata": {},
     "output_type": "execute_result"
    }
   ],
   "source": [
    "{len(k[1]) for k in dataset if type(k) == tuple}"
   ]
  },
  {
   "cell_type": "code",
   "execution_count": 334,
   "metadata": {
    "scrolled": true
   },
   "outputs": [
    {
     "name": "stdout",
     "output_type": "stream",
     "text": [
      "0.778745 0.966698\n",
      "0.382089 0.0749306\n",
      "0.801867 0.880666\n",
      "0.606154 0.701203\n",
      "0.721236 0.931545\n",
      "0.478504 0.66235\n",
      "0.457862 0.427382\n",
      "0.360921 0.122109\n",
      "0.411266 0.0323774\n",
      "0.177152 0.271045\n",
      "0.171122 0.20444\n",
      "0.13152 0.0222017\n",
      "0.622722 0.856614\n",
      "0.716049 0.768733\n",
      "0.473144 0.680851\n",
      "0.83905 0.679926\n",
      "0.385707 0.052729\n",
      "0.684515 0.0277521\n",
      "0.748586 0.696577\n",
      "0.544345 0.13506\n",
      "0.927844 0.86679\n",
      "0.134728 0.013876\n",
      "0.345087 0.0962072\n",
      "0.390913 0.0111008\n",
      "0.54047 0.707678\n",
      "0.696135 0.742831\n",
      "0.402841 0.153562\n",
      "0.362011 0.123034\n",
      "0.286604 0.376503\n",
      "0.498416 0.468085\n",
      "0.463262 0.258094\n",
      "0.231371 0.135985\n",
      "0.402751 0.155412\n",
      "0.61832 0.498612\n",
      "0.499904 0.185014\n",
      "0.786666 0.833488\n",
      "0.502752 0.838113\n",
      "0.788471 0.991674\n",
      "0.350825 0.277521\n",
      "0.0921521 0.168363\n",
      "0.755491 0.769658\n",
      "0.379987 0.113784\n",
      "0.413274 0.790009\n",
      "0.788773 0.827937\n",
      "0.47279 0.791859\n",
      "0.370153 0.444033\n",
      "0.568254 0.0786309\n",
      "0.478175 0.721554\n",
      "0.505278 0.120259\n",
      "0.329461 0.703978\n",
      "0.630949 0.740981\n",
      "0.333381 0.0416281\n",
      "0.381523 0.0333025\n",
      "0.353993 0.0166512\n",
      "0.267162 0.350601\n",
      "0.339872 0.725254\n",
      "0.372438 0.740056\n",
      "0.550189 0.678076\n",
      "0.350098 0.12766\n",
      "0.117072 0.00277521\n",
      "0.198846 0.0342276\n",
      "0.254032 0.313599\n",
      "0.192443 0.226642\n",
      "0.454781 0.412581\n"
     ]
    }
   ],
   "source": [
    "for x, y in zip(f.forward(hand,board).squeeze(), target[:, 0]):\n",
    "    print(x.data.numpy()[0],y.data.numpy()[0])"
   ]
  }
 ],
 "metadata": {
  "kernelspec": {
   "display_name": "Python 3",
   "language": "python",
   "name": "python3"
  },
  "language_info": {
   "codemirror_mode": {
    "name": "ipython",
    "version": 3
   },
   "file_extension": ".py",
   "mimetype": "text/x-python",
   "name": "python",
   "nbconvert_exporter": "python",
   "pygments_lexer": "ipython3",
   "version": "3.6.1"
  }
 },
 "nbformat": 4,
 "nbformat_minor": 2
}
