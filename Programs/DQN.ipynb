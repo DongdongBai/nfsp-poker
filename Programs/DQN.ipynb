{
 "cells": [
  {
   "cell_type": "code",
   "execution_count": 76,
   "metadata": {
    "collapsed": true
   },
   "outputs": [],
   "source": [
    "from keras.layers import Input, Concatenate, Add, Reshape, Flatten, Lambda\n",
    "from keras.models import Model\n",
    "from models import Conv1D, Dense\n",
    "import keras.backend as K"
   ]
  },
  {
   "cell_type": "code",
   "execution_count": 91,
   "metadata": {
    "collapsed": true
   },
   "outputs": [],
   "source": [
    "hand = Input((13,4))  # zero everywhere and 1 for your cards\n",
    "board = Input((3,13,4))  # 3 rounds of board: flop [0,:,:], turn [1,:,:] and river [2,:,:]\n",
    "pot = Input((1,))\n",
    "stack = Input((1,))  # @todo: include this in the neural network\n",
    "opponent_stack = Input((1,))  # @todo: include this in the neural network\n",
    "blinds = Input((2,))  # small, big blinds\n",
    "dealer = Input((1,))  # 1 if you are the dealer, 0 otherwise\n",
    "opponent_model = Input((2,))  # tendency to raise, number of hands played: 2 numbers between 0 and 1\n",
    "preflop_plays = Input((6, 5, 2))  # 6 plays max (check then 5 times raises), 5 possible actions (check,bet,call,raise,all-in), 2 players\n",
    "flop_plays = Input((6, 5, 2)) \n",
    "turn_plays = Input((6, 5, 2)) \n",
    "river_plays = Input((6, 5, 2))\n",
    "# value_of_hand = Input((2,))  # combination_type, rank_in_this_type"
   ]
  },
  {
   "cell_type": "code",
   "execution_count": 92,
   "metadata": {
    "collapsed": true
   },
   "outputs": [],
   "source": [
    "hidden_dim = 10\n",
    "n_actions = 20"
   ]
  },
  {
   "cell_type": "markdown",
   "metadata": {},
   "source": [
    "Processing board and hand specifically to detect flush and straight"
   ]
  },
  {
   "cell_type": "code",
   "execution_count": 93,
   "metadata": {
    "collapsed": true
   },
   "outputs": [],
   "source": [
    "# note: these may need to be wrapped by Lambda layer\n",
    "color_hand = Lambda(lambda x: K.sum(x, 1))(hand)\n",
    "color_board = Lambda(lambda x: K.sum(x, (1,2)))(board)\n",
    "kinds_hand = Lambda(lambda x: K.sum(x, 2))(hand)\n",
    "kinds_board = Lambda(lambda x: K.sum(x, (1,3)))(board)\n",
    "\n",
    "colors = Concatenate(2)([Reshape((4,1))(color_hand), Reshape((4,1))(color_board)])\n",
    "kinds = Concatenate(2)([Reshape((13,1))(kinds_hand), Reshape((13,1))(kinds_board)])"
   ]
  },
  {
   "cell_type": "code",
   "execution_count": 94,
   "metadata": {
    "collapsed": true
   },
   "outputs": [],
   "source": [
    "kinds = Conv1D(5,1, activation=\"prelu\")(kinds)\n",
    "kinds = Conv1D(1, 1, activation='prelu')(\n",
    "    Concatenate(-1)([\n",
    "        Conv1D(1, 3)(kinds),\n",
    "        Conv1D(3, 3, dilation_rate=2)(kinds)\n",
    "    ])\n",
    ")\n",
    "kinds = Dense(hidden_dim, activation='prelu', BN=True)(Flatten()(kinds))"
   ]
  },
  {
   "cell_type": "code",
   "execution_count": 95,
   "metadata": {
    "collapsed": true
   },
   "outputs": [],
   "source": [
    "colors = Conv1D(1, 1, activation='prelu')(colors)\n",
    "colors = Dense(hidden_dim, activation='prelu', BN=True)(Flatten()(colors))"
   ]
  },
  {
   "cell_type": "markdown",
   "metadata": {},
   "source": [
    "Process board only"
   ]
  },
  {
   "cell_type": "code",
   "execution_count": 96,
   "metadata": {
    "collapsed": true,
    "scrolled": true
   },
   "outputs": [],
   "source": [
    "board_ = Dense(hidden_dim, activation='prelu', BN=True)(Flatten()(board))\n",
    "board_ = Dense(hidden_dim, activation='prelu', BN=True)(board_)"
   ]
  },
  {
   "cell_type": "markdown",
   "metadata": {},
   "source": [
    "Process board and hand together"
   ]
  },
  {
   "cell_type": "code",
   "execution_count": 97,
   "metadata": {
    "collapsed": true
   },
   "outputs": [],
   "source": [
    "bh = Dense(hidden_dim, activation='prelu', BN=True)(Concatenate()([Flatten()(board), Flatten()(hand)]))\n",
    "bh = Dense(hidden_dim, activation='prelu', BN=True)(bh)"
   ]
  },
  {
   "cell_type": "code",
   "execution_count": 98,
   "metadata": {
    "collapsed": true
   },
   "outputs": [],
   "source": [
    "cards = Dense(hidden_dim, activation='prelu', BN=True)(Concatenate()([kinds, colors, board_, bh]))\n",
    "cards = Dense(hidden_dim, activation='prelu', BN=True)(cards)"
   ]
  },
  {
   "cell_type": "markdown",
   "metadata": {},
   "source": [
    "Add pot, position, blinds"
   ]
  },
  {
   "cell_type": "code",
   "execution_count": 99,
   "metadata": {
    "collapsed": true
   },
   "outputs": [],
   "source": [
    "situation_without_opponent = Add()([cards, \n",
    "                                    Dense(hidden_dim, activation='prelu', BN=True)(pot),\n",
    "                                    Dense(hidden_dim, activation='prelu', BN=True)(blinds),\n",
    "                                    Dense(hidden_dim, activation='prelu', BN=True)(dealer)\n",
    "                                   ])\n",
    "situation_without_opponent = Dense(hidden_dim, activation='prelu', BN=True)(situation_without_opponent)\n",
    "situation_without_opponent = Dense(hidden_dim, activation='prelu', BN=True)(situation_without_opponent)\n",
    "\n",
    "# maybe this should only be a function of the cards\n",
    "value_of_hand = Dense(hidden_dim, activation='sigmoid', BN=True)(situation_without_opponent)"
   ]
  },
  {
   "cell_type": "markdown",
   "metadata": {},
   "source": [
    "Process plays"
   ]
  },
  {
   "cell_type": "code",
   "execution_count": 100,
   "metadata": {
    "collapsed": true
   },
   "outputs": [],
   "source": [
    "processed_preflop = Dense(hidden_dim, activation='prelu', BN=True)(Flatten()(preflop_plays))\n",
    "processed_flop = Dense(hidden_dim, activation='prelu', BN=True)(Flatten()(flop_plays))\n",
    "processed_turn = Dense(hidden_dim, activation='prelu', BN=True)(Flatten()(turn_plays))\n",
    "processed_river = Dense(hidden_dim, activation='prelu', BN=True)(Flatten()(river_plays))\n",
    "processed_opponent = Dense(hidden_dim, activation='prelu', BN=True)(opponent_model)\n",
    "plays = Dense(hidden_dim, activation='prelu', BN=True)(Add()([processed_preflop, \n",
    "                                                     processed_flop, \n",
    "                                                     processed_turn, \n",
    "                                                     processed_river,\n",
    "                                                     processed_opponent\n",
    "                                                    ]))\n",
    "plays = Dense(hidden_dim, activation='prelu', BN=True)(plays)"
   ]
  },
  {
   "cell_type": "code",
   "execution_count": 101,
   "metadata": {
    "collapsed": true
   },
   "outputs": [],
   "source": [
    "situation_with_opponent = Dense(hidden_dim, activation='prelu', BN=True)(Concatenate()([plays, situation_without_opponent]))\n",
    "situation_with_opponent = Dense(hidden_dim, activation='prelu', BN=True)(situation_with_opponent)"
   ]
  },
  {
   "cell_type": "code",
   "execution_count": 102,
   "metadata": {
    "collapsed": true
   },
   "outputs": [],
   "source": [
    "Q_values = Dense(n_actions, activation=None, BN=True)(situation_with_opponent)"
   ]
  },
  {
   "cell_type": "code",
   "execution_count": 103,
   "metadata": {
    "collapsed": true
   },
   "outputs": [],
   "source": [
    "Q = Model([hand, board, pot, blinds, dealer, opponent_model, preflop_plays, flop_plays, turn_plays, river_plays], [value_of_hand, Q_values])"
   ]
  },
  {
   "cell_type": "code",
   "execution_count": 104,
   "metadata": {},
   "outputs": [
    {
     "name": "stdout",
     "output_type": "stream",
     "text": [
      "____________________________________________________________________________________________________\n",
      "Layer (type)                     Output Shape          Param #     Connected to                     \n",
      "====================================================================================================\n",
      "input_23 (InputLayer)            (None, 13, 4)         0                                            \n",
      "____________________________________________________________________________________________________\n",
      "input_24 (InputLayer)            (None, 3, 13, 4)      0                                            \n",
      "____________________________________________________________________________________________________\n",
      "lambda_7 (Lambda)                (None, 13)            0           input_23[0][0]                   \n",
      "____________________________________________________________________________________________________\n",
      "lambda_8 (Lambda)                (None, 13)            0           input_24[0][0]                   \n",
      "____________________________________________________________________________________________________\n",
      "reshape_33 (Reshape)             (None, 13, 1)         0           lambda_7[0][0]                   \n",
      "____________________________________________________________________________________________________\n",
      "reshape_34 (Reshape)             (None, 13, 1)         0           lambda_8[0][0]                   \n",
      "____________________________________________________________________________________________________\n",
      "concatenate_43 (Concatenate)     (None, 13, 2)         0           reshape_33[0][0]                 \n",
      "                                                                   reshape_34[0][0]                 \n",
      "____________________________________________________________________________________________________\n",
      "conv1d_28 (Conv1D)               (None, 13, 5)         10          concatenate_43[0][0]             \n",
      "____________________________________________________________________________________________________\n",
      "batch_normalization_84 (BatchNor (None, 13, 5)         20          conv1d_28[0][0]                  \n",
      "____________________________________________________________________________________________________\n",
      "p_re_lu_62 (PReLU)               (None, 13, 5)         65          batch_normalization_84[0][0]     \n",
      "____________________________________________________________________________________________________\n",
      "conv1d_29 (Conv1D)               (None, 13, 1)         15          p_re_lu_62[0][0]                 \n",
      "____________________________________________________________________________________________________\n",
      "conv1d_30 (Conv1D)               (None, 13, 3)         45          p_re_lu_62[0][0]                 \n",
      "____________________________________________________________________________________________________\n",
      "lambda_5 (Lambda)                (None, 4)             0           input_23[0][0]                   \n",
      "____________________________________________________________________________________________________\n",
      "lambda_6 (Lambda)                (None, 4)             0           input_24[0][0]                   \n",
      "____________________________________________________________________________________________________\n",
      "batch_normalization_85 (BatchNor (None, 13, 1)         4           conv1d_29[0][0]                  \n",
      "____________________________________________________________________________________________________\n",
      "batch_normalization_86 (BatchNor (None, 13, 3)         12          conv1d_30[0][0]                  \n",
      "____________________________________________________________________________________________________\n",
      "reshape_31 (Reshape)             (None, 4, 1)          0           lambda_5[0][0]                   \n",
      "____________________________________________________________________________________________________\n",
      "reshape_32 (Reshape)             (None, 4, 1)          0           lambda_6[0][0]                   \n",
      "____________________________________________________________________________________________________\n",
      "concatenate_44 (Concatenate)     (None, 13, 4)         0           batch_normalization_85[0][0]     \n",
      "                                                                   batch_normalization_86[0][0]     \n",
      "____________________________________________________________________________________________________\n",
      "concatenate_42 (Concatenate)     (None, 4, 2)          0           reshape_31[0][0]                 \n",
      "                                                                   reshape_32[0][0]                 \n",
      "____________________________________________________________________________________________________\n",
      "flatten_28 (Flatten)             (None, 156)           0           input_24[0][0]                   \n",
      "____________________________________________________________________________________________________\n",
      "flatten_29 (Flatten)             (None, 52)            0           input_23[0][0]                   \n",
      "____________________________________________________________________________________________________\n",
      "conv1d_31 (Conv1D)               (None, 13, 1)         4           concatenate_44[0][0]             \n",
      "____________________________________________________________________________________________________\n",
      "conv1d_32 (Conv1D)               (None, 4, 1)          2           concatenate_42[0][0]             \n",
      "____________________________________________________________________________________________________\n",
      "flatten_27 (Flatten)             (None, 156)           0           input_24[0][0]                   \n",
      "____________________________________________________________________________________________________\n",
      "concatenate_45 (Concatenate)     (None, 208)           0           flatten_28[0][0]                 \n",
      "                                                                   flatten_29[0][0]                 \n",
      "____________________________________________________________________________________________________\n",
      "batch_normalization_87 (BatchNor (None, 13, 1)         4           conv1d_31[0][0]                  \n",
      "____________________________________________________________________________________________________\n",
      "batch_normalization_89 (BatchNor (None, 4, 1)          4           conv1d_32[0][0]                  \n",
      "____________________________________________________________________________________________________\n",
      "dense_59 (Dense)                 (None, 10)            1570        flatten_27[0][0]                 \n",
      "____________________________________________________________________________________________________\n",
      "dense_61 (Dense)                 (None, 10)            2090        concatenate_45[0][0]             \n",
      "____________________________________________________________________________________________________\n",
      "p_re_lu_63 (PReLU)               (None, 13, 1)         13          batch_normalization_87[0][0]     \n",
      "____________________________________________________________________________________________________\n",
      "p_re_lu_65 (PReLU)               (None, 4, 1)          4           batch_normalization_89[0][0]     \n",
      "____________________________________________________________________________________________________\n",
      "batch_normalization_91 (BatchNor (None, 10)            40          dense_59[0][0]                   \n",
      "____________________________________________________________________________________________________\n",
      "batch_normalization_93 (BatchNor (None, 10)            40          dense_61[0][0]                   \n",
      "____________________________________________________________________________________________________\n",
      "flatten_25 (Flatten)             (None, 13)            0           p_re_lu_63[0][0]                 \n",
      "____________________________________________________________________________________________________\n",
      "flatten_26 (Flatten)             (None, 4)             0           p_re_lu_65[0][0]                 \n",
      "____________________________________________________________________________________________________\n",
      "p_re_lu_67 (PReLU)               (None, 10)            10          batch_normalization_91[0][0]     \n",
      "____________________________________________________________________________________________________\n",
      "p_re_lu_69 (PReLU)               (None, 10)            10          batch_normalization_93[0][0]     \n",
      "____________________________________________________________________________________________________\n",
      "dense_57 (Dense)                 (None, 10)            140         flatten_25[0][0]                 \n",
      "____________________________________________________________________________________________________\n",
      "dense_58 (Dense)                 (None, 10)            50          flatten_26[0][0]                 \n",
      "____________________________________________________________________________________________________\n",
      "dense_60 (Dense)                 (None, 10)            110         p_re_lu_67[0][0]                 \n",
      "____________________________________________________________________________________________________\n",
      "dense_62 (Dense)                 (None, 10)            110         p_re_lu_69[0][0]                 \n",
      "____________________________________________________________________________________________________\n",
      "batch_normalization_88 (BatchNor (None, 10)            40          dense_57[0][0]                   \n",
      "____________________________________________________________________________________________________\n",
      "batch_normalization_90 (BatchNor (None, 10)            40          dense_58[0][0]                   \n",
      "____________________________________________________________________________________________________\n",
      "batch_normalization_92 (BatchNor (None, 10)            40          dense_60[0][0]                   \n",
      "____________________________________________________________________________________________________\n",
      "batch_normalization_94 (BatchNor (None, 10)            40          dense_62[0][0]                   \n",
      "____________________________________________________________________________________________________\n",
      "p_re_lu_64 (PReLU)               (None, 10)            10          batch_normalization_88[0][0]     \n",
      "____________________________________________________________________________________________________\n",
      "p_re_lu_66 (PReLU)               (None, 10)            10          batch_normalization_90[0][0]     \n",
      "____________________________________________________________________________________________________\n",
      "p_re_lu_68 (PReLU)               (None, 10)            10          batch_normalization_92[0][0]     \n",
      "____________________________________________________________________________________________________\n",
      "p_re_lu_70 (PReLU)               (None, 10)            10          batch_normalization_94[0][0]     \n",
      "____________________________________________________________________________________________________\n",
      "concatenate_46 (Concatenate)     (None, 40)            0           p_re_lu_64[0][0]                 \n",
      "                                                                   p_re_lu_66[0][0]                 \n",
      "                                                                   p_re_lu_68[0][0]                 \n",
      "                                                                   p_re_lu_70[0][0]                 \n",
      "____________________________________________________________________________________________________\n",
      "dense_63 (Dense)                 (None, 10)            410         concatenate_46[0][0]             \n",
      "____________________________________________________________________________________________________\n",
      "batch_normalization_95 (BatchNor (None, 10)            40          dense_63[0][0]                   \n",
      "____________________________________________________________________________________________________\n",
      "input_29 (InputLayer)            (None, 6, 4, 2)       0                                            \n",
      "____________________________________________________________________________________________________\n",
      "input_30 (InputLayer)            (None, 6, 4, 2)       0                                            \n",
      "____________________________________________________________________________________________________\n",
      "input_31 (InputLayer)            (None, 6, 4, 2)       0                                            \n",
      "____________________________________________________________________________________________________\n",
      "input_32 (InputLayer)            (None, 6, 4, 2)       0                                            \n",
      "____________________________________________________________________________________________________\n",
      "p_re_lu_71 (PReLU)               (None, 10)            10          batch_normalization_95[0][0]     \n",
      "____________________________________________________________________________________________________\n",
      "input_25 (InputLayer)            (None, 1)             0                                            \n",
      "____________________________________________________________________________________________________\n",
      "input_26 (InputLayer)            (None, 2)             0                                            \n",
      "____________________________________________________________________________________________________\n",
      "input_27 (InputLayer)            (None, 1)             0                                            \n",
      "____________________________________________________________________________________________________\n",
      "flatten_30 (Flatten)             (None, 48)            0           input_29[0][0]                   \n",
      "____________________________________________________________________________________________________\n",
      "flatten_31 (Flatten)             (None, 48)            0           input_30[0][0]                   \n",
      "____________________________________________________________________________________________________\n",
      "flatten_32 (Flatten)             (None, 48)            0           input_31[0][0]                   \n",
      "____________________________________________________________________________________________________\n",
      "flatten_33 (Flatten)             (None, 48)            0           input_32[0][0]                   \n",
      "____________________________________________________________________________________________________\n",
      "input_28 (InputLayer)            (None, 2)             0                                            \n",
      "____________________________________________________________________________________________________\n",
      "dense_64 (Dense)                 (None, 10)            110         p_re_lu_71[0][0]                 \n",
      "____________________________________________________________________________________________________\n",
      "dense_65 (Dense)                 (None, 10)            20          input_25[0][0]                   \n",
      "____________________________________________________________________________________________________\n",
      "dense_66 (Dense)                 (None, 10)            30          input_26[0][0]                   \n",
      "____________________________________________________________________________________________________\n",
      "dense_67 (Dense)                 (None, 10)            20          input_27[0][0]                   \n",
      "____________________________________________________________________________________________________\n",
      "dense_71 (Dense)                 (None, 10)            490         flatten_30[0][0]                 \n",
      "____________________________________________________________________________________________________\n",
      "dense_72 (Dense)                 (None, 10)            490         flatten_31[0][0]                 \n",
      "____________________________________________________________________________________________________\n",
      "dense_73 (Dense)                 (None, 10)            490         flatten_32[0][0]                 \n",
      "____________________________________________________________________________________________________\n",
      "dense_74 (Dense)                 (None, 10)            490         flatten_33[0][0]                 \n",
      "____________________________________________________________________________________________________\n",
      "dense_75 (Dense)                 (None, 10)            30          input_28[0][0]                   \n",
      "____________________________________________________________________________________________________\n",
      "batch_normalization_96 (BatchNor (None, 10)            40          dense_64[0][0]                   \n",
      "____________________________________________________________________________________________________\n"
     ]
    },
    {
     "name": "stdout",
     "output_type": "stream",
     "text": [
      "batch_normalization_97 (BatchNor (None, 10)            40          dense_65[0][0]                   \n",
      "____________________________________________________________________________________________________\n",
      "batch_normalization_98 (BatchNor (None, 10)            40          dense_66[0][0]                   \n",
      "____________________________________________________________________________________________________\n",
      "batch_normalization_99 (BatchNor (None, 10)            40          dense_67[0][0]                   \n",
      "____________________________________________________________________________________________________\n",
      "batch_normalization_103 (BatchNo (None, 10)            40          dense_71[0][0]                   \n",
      "____________________________________________________________________________________________________\n",
      "batch_normalization_104 (BatchNo (None, 10)            40          dense_72[0][0]                   \n",
      "____________________________________________________________________________________________________\n",
      "batch_normalization_105 (BatchNo (None, 10)            40          dense_73[0][0]                   \n",
      "____________________________________________________________________________________________________\n",
      "batch_normalization_106 (BatchNo (None, 10)            40          dense_74[0][0]                   \n",
      "____________________________________________________________________________________________________\n",
      "batch_normalization_107 (BatchNo (None, 10)            40          dense_75[0][0]                   \n",
      "____________________________________________________________________________________________________\n",
      "p_re_lu_72 (PReLU)               (None, 10)            10          batch_normalization_96[0][0]     \n",
      "____________________________________________________________________________________________________\n",
      "p_re_lu_73 (PReLU)               (None, 10)            10          batch_normalization_97[0][0]     \n",
      "____________________________________________________________________________________________________\n",
      "p_re_lu_74 (PReLU)               (None, 10)            10          batch_normalization_98[0][0]     \n",
      "____________________________________________________________________________________________________\n",
      "p_re_lu_75 (PReLU)               (None, 10)            10          batch_normalization_99[0][0]     \n",
      "____________________________________________________________________________________________________\n",
      "p_re_lu_78 (PReLU)               (None, 10)            10          batch_normalization_103[0][0]    \n",
      "____________________________________________________________________________________________________\n",
      "p_re_lu_79 (PReLU)               (None, 10)            10          batch_normalization_104[0][0]    \n",
      "____________________________________________________________________________________________________\n",
      "p_re_lu_80 (PReLU)               (None, 10)            10          batch_normalization_105[0][0]    \n",
      "____________________________________________________________________________________________________\n",
      "p_re_lu_81 (PReLU)               (None, 10)            10          batch_normalization_106[0][0]    \n",
      "____________________________________________________________________________________________________\n",
      "p_re_lu_82 (PReLU)               (None, 10)            10          batch_normalization_107[0][0]    \n",
      "____________________________________________________________________________________________________\n",
      "add_6 (Add)                      (None, 10)            0           p_re_lu_72[0][0]                 \n",
      "                                                                   p_re_lu_73[0][0]                 \n",
      "                                                                   p_re_lu_74[0][0]                 \n",
      "                                                                   p_re_lu_75[0][0]                 \n",
      "____________________________________________________________________________________________________\n",
      "add_7 (Add)                      (None, 10)            0           p_re_lu_78[0][0]                 \n",
      "                                                                   p_re_lu_79[0][0]                 \n",
      "                                                                   p_re_lu_80[0][0]                 \n",
      "                                                                   p_re_lu_81[0][0]                 \n",
      "                                                                   p_re_lu_82[0][0]                 \n",
      "____________________________________________________________________________________________________\n",
      "dense_68 (Dense)                 (None, 10)            110         add_6[0][0]                      \n",
      "____________________________________________________________________________________________________\n",
      "dense_76 (Dense)                 (None, 10)            110         add_7[0][0]                      \n",
      "____________________________________________________________________________________________________\n",
      "batch_normalization_100 (BatchNo (None, 10)            40          dense_68[0][0]                   \n",
      "____________________________________________________________________________________________________\n",
      "batch_normalization_108 (BatchNo (None, 10)            40          dense_76[0][0]                   \n",
      "____________________________________________________________________________________________________\n",
      "p_re_lu_76 (PReLU)               (None, 10)            10          batch_normalization_100[0][0]    \n",
      "____________________________________________________________________________________________________\n",
      "p_re_lu_83 (PReLU)               (None, 10)            10          batch_normalization_108[0][0]    \n",
      "____________________________________________________________________________________________________\n",
      "dense_69 (Dense)                 (None, 10)            110         p_re_lu_76[0][0]                 \n",
      "____________________________________________________________________________________________________\n",
      "dense_77 (Dense)                 (None, 10)            110         p_re_lu_83[0][0]                 \n",
      "____________________________________________________________________________________________________\n",
      "batch_normalization_101 (BatchNo (None, 10)            40          dense_69[0][0]                   \n",
      "____________________________________________________________________________________________________\n",
      "batch_normalization_109 (BatchNo (None, 10)            40          dense_77[0][0]                   \n",
      "____________________________________________________________________________________________________\n",
      "p_re_lu_77 (PReLU)               (None, 10)            10          batch_normalization_101[0][0]    \n",
      "____________________________________________________________________________________________________\n",
      "p_re_lu_84 (PReLU)               (None, 10)            10          batch_normalization_109[0][0]    \n",
      "____________________________________________________________________________________________________\n",
      "concatenate_47 (Concatenate)     (None, 20)            0           p_re_lu_84[0][0]                 \n",
      "                                                                   p_re_lu_77[0][0]                 \n",
      "____________________________________________________________________________________________________\n",
      "dense_78 (Dense)                 (None, 10)            210         concatenate_47[0][0]             \n",
      "____________________________________________________________________________________________________\n",
      "batch_normalization_110 (BatchNo (None, 10)            40          dense_78[0][0]                   \n",
      "____________________________________________________________________________________________________\n",
      "p_re_lu_85 (PReLU)               (None, 10)            10          batch_normalization_110[0][0]    \n",
      "____________________________________________________________________________________________________\n",
      "dense_79 (Dense)                 (None, 10)            110         p_re_lu_85[0][0]                 \n",
      "____________________________________________________________________________________________________\n",
      "batch_normalization_111 (BatchNo (None, 10)            40          dense_79[0][0]                   \n",
      "____________________________________________________________________________________________________\n",
      "dense_70 (Dense)                 (None, 10)            110         p_re_lu_77[0][0]                 \n",
      "____________________________________________________________________________________________________\n",
      "p_re_lu_86 (PReLU)               (None, 10)            10          batch_normalization_111[0][0]    \n",
      "____________________________________________________________________________________________________\n",
      "batch_normalization_102 (BatchNo (None, 10)            40          dense_70[0][0]                   \n",
      "____________________________________________________________________________________________________\n",
      "dense_80 (Dense)                 (None, 20)            220         p_re_lu_86[0][0]                 \n",
      "____________________________________________________________________________________________________\n",
      "activation_3 (Activation)        (None, 10)            0           batch_normalization_102[0][0]    \n",
      "____________________________________________________________________________________________________\n",
      "batch_normalization_112 (BatchNo (None, 20)            80          dense_80[0][0]                   \n",
      "====================================================================================================\n",
      "Total params: 9,162\n",
      "Trainable params: 8,640\n",
      "Non-trainable params: 522\n",
      "____________________________________________________________________________________________________\n"
     ]
    }
   ],
   "source": [
    "Q.summary()"
   ]
  },
  {
   "cell_type": "code",
   "execution_count": 105,
   "metadata": {
    "collapsed": true
   },
   "outputs": [],
   "source": [
    "from keras.optimizers import Adam\n",
    "\n",
    "Q.compile(Adam(), ['mse', 'mse'], loss_weights=[1., 10.])"
   ]
  },
  {
   "cell_type": "code",
   "execution_count": null,
   "metadata": {
    "collapsed": true
   },
   "outputs": [],
   "source": []
  }
 ],
 "metadata": {
  "kernelspec": {
   "display_name": "Python 3",
   "language": "python",
   "name": "python3"
  },
  "language_info": {
   "codemirror_mode": {
    "name": "ipython",
    "version": 3
   },
   "file_extension": ".py",
   "mimetype": "text/x-python",
   "name": "python",
   "nbconvert_exporter": "python",
   "pygments_lexer": "ipython3",
   "version": "3.6.2"
  }
 },
 "nbformat": 4,
 "nbformat_minor": 2
}
